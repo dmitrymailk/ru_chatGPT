{
 "cells": [
  {
   "cell_type": "code",
   "execution_count": 1,
   "metadata": {},
   "outputs": [
    {
     "name": "stderr",
     "output_type": "stream",
     "text": [
      "/home/kosenko/miniconda3/lib/python3.10/site-packages/tqdm/auto.py:22: TqdmWarning: IProgress not found. Please update jupyter and ipywidgets. See https://ipywidgets.readthedocs.io/en/stable/user_install.html\n",
      "  from .autonotebook import tqdm as notebook_tqdm\n",
      "The attention mask and the pad token id were not set. As a consequence, you may observe unexpected behavior. Please pass your input's `attention_mask` to obtain reliable results.\n",
      "Setting `pad_token_id` to `eos_token_id`:5 for open-end generation.\n",
      "The attention mask and the pad token id were not set. As a consequence, you may observe unexpected behavior. Please pass your input's `attention_mask` to obtain reliable results.\n",
      "Setting `pad_token_id` to `eos_token_id`:5 for open-end generation.\n"
     ]
    },
    {
     "name": "stdout",
     "output_type": "stream",
     "text": [
      "---\n",
      "Александр Сергеевич Пушкин родился в ровенском имении Щербаково 7 декабря 1773 года.\n",
      "Уже с детства Пушкин увлекался живописью. Учился в Академии художеств, но неудачно: заставлял преподавать.\n",
      "Взяв уроки у Виталия А. Брюллова, в 1785 году он приступает к написанию «Путешествия по Италии». Издание вышло в Москве в 1786 году под названием «Две сказ\n"
     ]
    },
    {
     "name": "stderr",
     "output_type": "stream",
     "text": [
      "The attention mask and the pad token id were not set. As a consequence, you may observe unexpected behavior. Please pass your input's `attention_mask` to obtain reliable results.\n",
      "Setting `pad_token_id` to `eos_token_id`:5 for open-end generation.\n"
     ]
    },
    {
     "name": "stdout",
     "output_type": "stream",
     "text": [
      "---\n",
      "Alexander Sergeevich Pushkin was born in ___, Russia in the year 1768, the son of Ilya Vasilyevich Puskint and Nikolaeva Vasilyevna Derzhavina (d. 1870), who was a Volga Valley resident in __. Pushkin first entered Moscow State Technical Academy in (1776), studied with him and followed him to St. Petersburg and graduated from the Academy in 1789. When the ___ Rebellion broke out, P\n"
     ]
    },
    {
     "name": "stderr",
     "output_type": "stream",
     "text": [
      "The attention mask and the pad token id were not set. As a consequence, you may observe unexpected behavior. Please pass your input's `attention_mask` to obtain reliable results.\n",
      "Setting `pad_token_id` to `eos_token_id`:5 for open-end generation.\n"
     ]
    },
    {
     "name": "stdout",
     "output_type": "stream",
     "text": [
      "---\n",
      "Олександр Сергійович Пушкін народився в інтернаті в Олександрійську кірху на Жовтневому проспекті, 7 березня (22 квітня за старим стилем) 1889 року. Мати його, Евдокия Юріївна, народилася в Пензені в 1895 році. Саме до Росі�\n"
     ]
    },
    {
     "name": "stderr",
     "output_type": "stream",
     "text": [
      "The attention mask and the pad token id were not set. As a consequence, you may observe unexpected behavior. Please pass your input's `attention_mask` to obtain reliable results.\n",
      "Setting `pad_token_id` to `eos_token_id`:5 for open-end generation.\n"
     ]
    },
    {
     "name": "stdout",
     "output_type": "stream",
     "text": [
      "---\n",
      "Аляксандр Сяргеевіч Пушкін нарадзіўся ў імя Іваноў Іван Іванавіч у 1910 годзе ў цэнтральнай частцы Гродна ў пагадзіннай сям'і селяніна. У 1922 годзе скончыў Пастаўскае педагагічна\n"
     ]
    },
    {
     "name": "stderr",
     "output_type": "stream",
     "text": [
      "The attention mask and the pad token id were not set. As a consequence, you may observe unexpected behavior. Please pass your input's `attention_mask` to obtain reliable results.\n",
      "Setting `pad_token_id` to `eos_token_id`:5 for open-end generation.\n"
     ]
    },
    {
     "name": "stdout",
     "output_type": "stream",
     "text": [
      "---\n",
      "Александр Сергеевич Пушкин шәһәрендә туган. Ул 1826 елның 29 мартында сәламәтлеге начар күренгән. Кеше җаны белән ул 1804 елны 7 нче июльдә генә истәлеккә һөҗүм иткән\n"
     ]
    },
    {
     "name": "stderr",
     "output_type": "stream",
     "text": [
      "The attention mask and the pad token id were not set. As a consequence, you may observe unexpected behavior. Please pass your input's `attention_mask` to obtain reliable results.\n",
      "Setting `pad_token_id` to `eos_token_id`:5 for open-end generation.\n"
     ]
    },
    {
     "name": "stdout",
     "output_type": "stream",
     "text": [
      "---\n",
      "Александр Сергеевич Пушкин дүниеге келгеннен бастап халықтың поэзиясына қызығушылығын арттырып, поэзиясын, санасын дамыту жолдарын қарастыруға көмектеседі, оның алғашқы қарым-қаты\n"
     ]
    },
    {
     "name": "stderr",
     "output_type": "stream",
     "text": [
      "The attention mask and the pad token id were not set. As a consequence, you may observe unexpected behavior. Please pass your input's `attention_mask` to obtain reliable results.\n",
      "Setting `pad_token_id` to `eos_token_id`:5 for open-end generation.\n"
     ]
    },
    {
     "name": "stdout",
     "output_type": "stream",
     "text": [
      "---\n",
      "亚历山大*谢尔盖耶维奇*普希金出生于1948年。叶卡捷琳堡当地时间2008年10月1日举行的2008年俄罗斯联邦总统选举在最终结果中，叶卡捷�M耶维奇以微弱优势获胜，连任俄罗斯联邦总统。，如果你注意到我，你就知道，从去年11月31日开始，由于个人原因，在那里的警局管理\n"
     ]
    },
    {
     "name": "stderr",
     "output_type": "stream",
     "text": [
      "The attention mask and the pad token id were not set. As a consequence, you may observe unexpected behavior. Please pass your input's `attention_mask` to obtain reliable results.\n",
      "Setting `pad_token_id` to `eos_token_id`:5 for open-end generation.\n"
     ]
    },
    {
     "name": "stdout",
     "output_type": "stream",
     "text": [
      "---\n",
      "알렉산더 세르게 비치 푸쉬킨은 『존재와 삶의 진화』와 비교해주는 훌륭한 소설입니다.\n",
      "우리는 하나님이 주신 생명과 마음의 제물과 삶의 열매들을 여러 가지 모양으로 갖추고 있다고 믿어야 합니다. 그러면 저는 여러 가지 생명을 가진 생명과 생명의 제물들로\n"
     ]
    },
    {
     "name": "stderr",
     "output_type": "stream",
     "text": [
      "The attention mask and the pad token id were not set. As a consequence, you may observe unexpected behavior. Please pass your input's `attention_mask` to obtain reliable results.\n",
      "Setting `pad_token_id` to `eos_token_id`:5 for open-end generation.\n"
     ]
    },
    {
     "name": "stdout",
     "output_type": "stream",
     "text": [
      "---\n",
      "Alexander Sergeevich Pushkinはで生まれました。彼の母親は白いドラム手、そして彼の叔父はピアノ弾き語り。クラスに遊び、体育でしたが、彼は競技を楽しんで、そして試合が最後まで諦めずに、白いボールを投げ続けました。\n",
      "ちょうど、彼の父親は13歳に達しましたが、彼はドクターになりました。しかし、父は父親よりも若いので、問題はありませんでした。\n"
     ]
    },
    {
     "name": "stderr",
     "output_type": "stream",
     "text": [
      "The attention mask and the pad token id were not set. As a consequence, you may observe unexpected behavior. Please pass your input's `attention_mask` to obtain reliable results.\n",
      "Setting `pad_token_id` to `eos_token_id`:5 for open-end generation.\n"
     ]
    },
    {
     "name": "stdout",
     "output_type": "stream",
     "text": [
      "---\n",
      "Александр Сергеевич Пушкин ҫуралнӑ ҫәрӑнселӑн тӑннӗ. Пескӗ ҫурыннӑ, анчахана ялланмаҫ, лӑмнири чорҫетӗ, ӑмӑшкӗ, анчашӗл, йышшӗ, кыраҫ\n"
     ]
    },
    {
     "name": "stderr",
     "output_type": "stream",
     "text": [
      "The attention mask and the pad token id were not set. As a consequence, you may observe unexpected behavior. Please pass your input's `attention_mask` to obtain reliable results.\n",
      "Setting `pad_token_id` to `eos_token_id`:5 for open-end generation.\n"
     ]
    },
    {
     "name": "stdout",
     "output_type": "stream",
     "text": [
      "---\n",
      "Александр Сергеевич Пушкин төрөөбүтэ Өрдөксүк, онугар сылгы санаа бэлиэтээн-сиирэ биллиилээх өҕүлэр. Биһиги олордарга уларытынан өйдөбөттөрүнэ, б\n"
     ]
    },
    {
     "name": "stderr",
     "output_type": "stream",
     "text": [
      "The attention mask and the pad token id were not set. As a consequence, you may observe unexpected behavior. Please pass your input's `attention_mask` to obtain reliable results.\n",
      "Setting `pad_token_id` to `eos_token_id`:5 for open-end generation.\n"
     ]
    },
    {
     "name": "stdout",
     "output_type": "stream",
     "text": [
      "---\n",
      "Alexander Puschkin wurde in <...> in Kaliningrad geboren, dort war sein Vater, der von den Nationalsozialisten während der Diktatur des Nazityschers Joseph Stalin gehängt wurde. In der Sowjetunion gibt es traditionell eine von der Opposition nicht durchgeführte Aktion. Als eine der Folgen dieser Aktion, der Mord an dem Peter Simon Pasternak 1934, haben im Juli 1934 die Mitglieder der Prosa-Akademie Peter Johann Kraus ein Referat über Puschkin gehalten.\n",
      "---\n",
      "Alexandre Sergueïevitch Pouchkine est né le à  Kiev (actuelle Ukraine) et mort le à Moscou.\n",
      "On l'a surnommé « la biographie des étoiles ». Pouchkino donne de nombreux exemples et détails de ses célèbres trajets sur le Tien-san.\n",
      "Biographie.\n",
      "Fils d'un commerçant, Pouchkina s'inscrit à l'université d'État de Moscou en.\n",
      "Les débuts\n"
     ]
    }
   ],
   "source": [
    "import numpy as np\n",
    "import transformers\n",
    "from transformers import GPT2LMHeadModel, GPT2Tokenizer\n",
    "\n",
    "model_name = \"sberbank-ai/mGPT\"\n",
    "\n",
    "tokenizer = GPT2Tokenizer.from_pretrained(model_name)\n",
    "model = GPT2LMHeadModel.from_pretrained(model_name)\n",
    "\n",
    "texts = [\n",
    "    \"Александр Сергеевич Пушкин родился в \",\n",
    "    \"Alexander Sergeevich Pushkin was born in \",\n",
    "    \"Олександр Сергійович Пушкін народився в \",\n",
    "    \"Аляксандр Сяргеевіч Пушкін нарадзіўся ў \",\n",
    "    \"Александр Сергеевич Пушкин шәһәрендә туган\",\n",
    "    \"Александр Сергеевич Пушкин дүниеге келген\",\n",
    "    \"亚历山大*谢尔盖耶维奇*普希金出生于\",\n",
    "    \"알렉산더 세르게 비치 푸쉬킨은 \",\n",
    "    \"Alexander Sergeevich Pushkinはで生まれました\",\n",
    "    \"Александр Сергеевич Пушкин ҫуралнӑ \",\n",
    "    \"Александр Сергеевич Пушкин төрөөбүтэ \",\n",
    "    \"Alexander Puschkin wurde in \",\n",
    "    \"Alexandre Sergueïevitch Pouchkine est né le à \",\n",
    "]\n",
    "\n",
    "model.cuda()\n",
    "model.eval()\n",
    "transformers.set_seed(1337)\n",
    "\n",
    "for text in texts:\n",
    "    input_ids = tokenizer.encode(text, return_tensors=\"pt\").cuda()\n",
    "    out = model.generate(\n",
    "        input_ids, \n",
    "        min_length=100,\n",
    "        max_length=100,\n",
    "        eos_token_id=5, \n",
    "        # pad_token=1,\n",
    "        do_sample=True,\n",
    "        top_k=0,\n",
    "        top_p=0.9,\n",
    "        no_repeat_ngram_size=4)\n",
    "    generated_text = list(map(tokenizer.decode, out))[0]\n",
    "    print('---')\n",
    "    print(generated_text)"
   ]
  },
  {
   "cell_type": "code",
   "execution_count": 5,
   "metadata": {},
   "outputs": [
    {
     "name": "stderr",
     "output_type": "stream",
     "text": [
      "Using pad_token, but it is not set yet.\n"
     ]
    },
    {
     "data": {
      "text/plain": [
       "(False, 5)"
      ]
     },
     "execution_count": 5,
     "metadata": {},
     "output_type": "execute_result"
    }
   ],
   "source": [
    "tokenizer.pad_token is None\n",
    "tokenizer.eos_token is None, tokenizer.eos_token_id"
   ]
  },
  {
   "cell_type": "code",
   "execution_count": 6,
   "metadata": {},
   "outputs": [
    {
     "data": {
      "text/plain": [
       "'<pad>'"
      ]
     },
     "execution_count": 6,
     "metadata": {},
     "output_type": "execute_result"
    }
   ],
   "source": [
    "tokenizer.convert_ids_to_tokens(1)"
   ]
  }
 ],
 "metadata": {
  "kernelspec": {
   "display_name": "base",
   "language": "python",
   "name": "python3"
  },
  "language_info": {
   "codemirror_mode": {
    "name": "ipython",
    "version": 3
   },
   "file_extension": ".py",
   "mimetype": "text/x-python",
   "name": "python",
   "nbconvert_exporter": "python",
   "pygments_lexer": "ipython3",
   "version": "3.10.9"
  },
  "orig_nbformat": 4
 },
 "nbformat": 4,
 "nbformat_minor": 2
}
