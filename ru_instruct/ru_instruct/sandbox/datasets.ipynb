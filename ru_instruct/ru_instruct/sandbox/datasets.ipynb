{
 "cells": [
  {
   "cell_type": "code",
   "execution_count": 2,
   "metadata": {},
   "outputs": [
    {
     "name": "stderr",
     "output_type": "stream",
     "text": [
      "/home/kosenko/miniconda3/lib/python3.10/site-packages/tqdm/auto.py:22: TqdmWarning: IProgress not found. Please update jupyter and ipywidgets. See https://ipywidgets.readthedocs.io/en/stable/user_install.html\n",
      "  from .autonotebook import tqdm as notebook_tqdm\n",
      "Found cached dataset json (/home/kosenko/.cache/huggingface/datasets/yahma___json/yahma--alpaca-cleaned-5d24553f76c14acc/0.0.0/fe5dd6ea2639a6df622901539cb550cf8797e5a6b2dd7af1cf934bed8e233e6e)\n",
      "100%|██████████| 1/1 [00:00<00:00, 434.82it/s]\n"
     ]
    },
    {
     "data": {
      "text/plain": [
       "DatasetDict({\n",
       "    train: Dataset({\n",
       "        features: ['instruction', 'input', 'output'],\n",
       "        num_rows: 51760\n",
       "    })\n",
       "})"
      ]
     },
     "execution_count": 2,
     "metadata": {},
     "output_type": "execute_result"
    }
   ],
   "source": [
    "from datasets import load_dataset\n",
    "\n",
    "data_path = \"yahma/alpaca-cleaned\"\n",
    "data = load_dataset(data_path)\n",
    "data\n"
   ]
  },
  {
   "cell_type": "code",
   "execution_count": 2,
   "metadata": {},
   "outputs": [
    {
     "data": {
      "text/plain": [
       "{'instruction': 'Give three tips for staying healthy.',\n",
       " 'input': '',\n",
       " 'output': '1. Eat a balanced and nutritious diet: Make sure your meals are inclusive of a variety of fruits and vegetables, lean protein, whole grains, and healthy fats. This helps to provide your body with the essential nutrients to function at its best and can help prevent chronic diseases.\\n\\n2. Engage in regular physical activity: Exercise is crucial for maintaining strong bones, muscles, and cardiovascular health. Aim for at least 150 minutes of moderate aerobic exercise or 75 minutes of vigorous exercise each week.\\n\\n3. Get enough sleep: Getting enough quality sleep is crucial for physical and mental well-being. It helps to regulate mood, improve cognitive function, and supports healthy growth and immune function. Aim for 7-9 hours of sleep each night.'}"
      ]
     },
     "execution_count": 2,
     "metadata": {},
     "output_type": "execute_result"
    }
   ],
   "source": [
    "data[\"train\"][0]\n"
   ]
  },
  {
   "cell_type": "code",
   "execution_count": 6,
   "metadata": {},
   "outputs": [],
   "source": [
    "header = \"A chat between a curious human and an artificial intelligence assistant. The assistant gives helpful, detailed, and polite answers to the human's questions.\"\n",
    "header2 = \"### Human: Below is an instruction that describes a task. Write a response that appropriately completes the request.\"\n",
    "\n",
    "\n",
    "def format_dataset_1(instruction=\"\", input=\"\", response=\"\", position=1):\n",
    "    if position == 1:\n",
    "        return f\"\\n\\n{header}\\n\\n{header2}\\n\\n### Instruction:\\n{instruction}\\n{input}\\n### Response:\\n### Assistant:\\n{response}\\n\\n\"\n",
    "    elif position == 2:\n",
    "        return f\"\\n\\n{header}\\n\\n{header2}\\n\\n### Instruction:\\n{input}\\n{instruction}\\n### Response:\\n### Assistant:\\n{response}\\n\\n\"\n"
   ]
  },
  {
   "cell_type": "code",
   "execution_count": 18,
   "metadata": {},
   "outputs": [],
   "source": [
    "import json\n",
    "\n",
    "new_dataset = []\n",
    "for i, item in enumerate(data[\"train\"]):\n",
    "    range_value = 2\n",
    "    if len(item[\"input\"].strip()) > 0:\n",
    "        range_value = 3\n",
    "\n",
    "    for pos in range(1, range_value):\n",
    "        prompt = format_dataset_1(\n",
    "            instruction=item[\"instruction\"],\n",
    "            input=item[\"input\"],\n",
    "            response=item[\"output\"],\n",
    "            position=pos,\n",
    "        )\n",
    "        new_dataset.append({\"prompt\": prompt})\n",
    "\n",
    "with open(\n",
    "    \"./datasets_processed/yahma_alpaca_cleaned_formated.json\", \"w\", encoding=\"utf-8\"\n",
    ") as f:\n",
    "    json.dump(new_dataset, f)\n"
   ]
  },
  {
   "cell_type": "code",
   "execution_count": 21,
   "metadata": {},
   "outputs": [
    {
     "name": "stderr",
     "output_type": "stream",
     "text": [
      "Found cached dataset json (/home/kosenko/.cache/huggingface/datasets/json/default-ce37cf520ab74917/0.0.0/fe5dd6ea2639a6df622901539cb550cf8797e5a6b2dd7af1cf934bed8e233e6e)\n",
      "100%|██████████| 1/1 [00:00<00:00, 453.68it/s]\n"
     ]
    },
    {
     "data": {
      "text/plain": [
       "DatasetDict({\n",
       "    train: Dataset({\n",
       "        features: ['completion', 'completion_translated', 'prompt', 'prompt_translated'],\n",
       "        num_rows: 82600\n",
       "    })\n",
       "})"
      ]
     },
     "execution_count": 21,
     "metadata": {},
     "output_type": "execute_result"
    }
   ],
   "source": [
    "translated_path = (\n",
    "    \"/cephfs/home/konovalov/ru_self_instruct/self_instruct_translated.json\"\n",
    ")\n",
    "\n",
    "data = load_dataset(\"json\", data_files=translated_path)\n",
    "data\n"
   ]
  },
  {
   "cell_type": "code",
   "execution_count": 22,
   "metadata": {},
   "outputs": [
    {
     "data": {
      "text/plain": [
       "{'completion': \" 1. Make a schedule for studying and stick to it.\\n2. Study in the same place every time.\\n3. Set goals for yourself.\\n4. Take breaks when you need them.\\n5. Don't cram before an exam.\\n6. Get enough sleep.\\n7. Eat healthy food.\\n8. Exercise regularly.\\n9. Find a study partner.\\n10. Reward yourself after completing a task.\",\n",
       " 'completion_translated': '1. Составьте график учебы и придерживайтесь его. Учитесь в одном и том же месте каждые часы.Ставьте перед собой цели. Сделайте перерывы, когда они вам нужны. Не суетитесь перед экзаменом. Достаточно спите. Ешьте здоровую пищу. Регулярно занимайтесь физическими упражнениями. Найдите занятие. Вознаграждайте себя после выполнения задания.',\n",
       " 'prompt': 'Make a list of 10 ways to help students improve their study skills.\\n\\nOutput:',\n",
       " 'prompt_translated': 'Составьте список из 10 способов помочь студентам улучшить свои навыки учебы.'}"
      ]
     },
     "execution_count": 22,
     "metadata": {},
     "output_type": "execute_result"
    }
   ],
   "source": [
    "data[\"train\"][0]\n"
   ]
  },
  {
   "cell_type": "code",
   "execution_count": 31,
   "metadata": {},
   "outputs": [],
   "source": [
    "import json\n",
    "\n",
    "new_dataset = []\n",
    "for i, item in enumerate(data[\"train\"]):\n",
    "    range_value = 2\n",
    "    # if len(item['input'].strip()) > 0:\n",
    "    #     range_value = 3\n",
    "\n",
    "    for pos in range(1, range_value):\n",
    "        clean_prompt = item[\"prompt\"].replace(\"Output:\", \"\")\n",
    "        prompt = format_dataset_1(\n",
    "            instruction=clean_prompt.strip(),\n",
    "            response=item[\"completion\"].strip(),\n",
    "            position=pos,\n",
    "        )\n",
    "        # print(prompt)\n",
    "        new_dataset.append({\"prompt\": prompt})\n",
    "\n",
    "    # if i > 400:\n",
    "    #     break\n",
    "\n",
    "with open(\"./datasets_processed/self_instruct.json\", \"w\", encoding=\"utf-8\") as f:\n",
    "    json.dump(new_dataset, f)\n"
   ]
  },
  {
   "cell_type": "code",
   "execution_count": 35,
   "metadata": {},
   "outputs": [
    {
     "name": "stderr",
     "output_type": "stream",
     "text": [
      "No config specified, defaulting to: ru_turbo_alpaca/default\n",
      "Found cached dataset ru_turbo_alpaca (/home/kosenko/.cache/huggingface/datasets/IlyaGusev___ru_turbo_alpaca/default/0.0.1/a2a1f5b065b9e34022f6bc402785c2f5fa791930917ce4f1b8d4e634def7496d)\n",
      "100%|██████████| 1/1 [00:00<00:00, 432.63it/s]\n"
     ]
    },
    {
     "data": {
      "text/plain": [
       "DatasetDict({\n",
       "    train: Dataset({\n",
       "        features: ['instruction', 'input', 'output', 'alternative_output', 'label', 'all_labels', 'agreement', 'overlap'],\n",
       "        num_rows: 29822\n",
       "    })\n",
       "})"
      ]
     },
     "execution_count": 35,
     "metadata": {},
     "output_type": "execute_result"
    }
   ],
   "source": [
    "from datasets import load_dataset\n",
    "\n",
    "data_path = \"IlyaGusev/ru_turbo_alpaca\"\n",
    "data = load_dataset(data_path)\n",
    "data\n"
   ]
  },
  {
   "cell_type": "code",
   "execution_count": 33,
   "metadata": {},
   "outputs": [
    {
     "data": {
      "text/plain": [
       "{'instruction': 'Опишите, как сделать горшок из глины.',\n",
       " 'input': '',\n",
       " 'output': 'Для изготовления горшка из глины сначала необходимо взять глину и размешать ее водой до состояния пластилина. Затем нужно сформировать глиняный комок нужной формы и тщательно откачать влагу из глины, чтобы она стала твердой. Горшок нужно обжечь в духовке при высокой температуре, чтобы он стал прочным и непроницаемым.',\n",
       " 'alternative_output': 'Для изготовления горшка из глины нужно выполнить следующие шаги:\\n\\n1. Подготовить глину: глину необходимо хорошо промыть и измельчить. Если глина слишком сухая, ее нужно замочить.\\n\\n2. Сформировать горшок: возьмите кусок глины и разминайте его в руках, сделав шарик. Потом начинайте вращать шарик между ладонями, чтоб сформировался цилиндр. Затем используйте пальцы, чтобы создать стенки горшка высотой и диаметром по желанию.\\n\\n3. Сделать отверстие для дренажа: вы сможете сделать отверстие для дренажа для того, чтобы вода смогла выходить из горшка, когда он находится на подставке. Для этого, воспользуйтесь ножом или другим инструментом для делания отверстия на дне горшка.\\n\\n4. Высушить горшок: дайте горшку высохнуть на протяжении 24 часов при комнатной температуре.\\n\\n5. Обжиг горшка: после того как горшок высохнет, следует обжечь его на термостойкой поверхности, такой как плавленное стекло или кирпич. Это нужно сделать, чтобы горшок стал крепче. Обжигайте горшок в печи на температуре 900 градусов Цельсия в течение 3-4 часов. \\n\\n6. Раскрашивание: по желанию, можно раскрасить горшок и покрыть лаком.\\n\\nГотов! Теперь у вас есть свой собственный горшок.',\n",
       " 'label': 'bad_output',\n",
       " 'all_labels': ['bad_output', 'bad_output'],\n",
       " 'agreement': 1.0,\n",
       " 'overlap': 2}"
      ]
     },
     "execution_count": 33,
     "metadata": {},
     "output_type": "execute_result"
    }
   ],
   "source": [
    "data[\"train\"][0]\n"
   ]
  },
  {
   "cell_type": "code",
   "execution_count": 39,
   "metadata": {},
   "outputs": [],
   "source": [
    "import json\n",
    "\n",
    "new_dataset = []\n",
    "for i, item in enumerate(data[\"train\"]):\n",
    "    range_value = 2\n",
    "    if len(item[\"input\"].strip()) > 0:\n",
    "        range_value = 3\n",
    "\n",
    "    for pos in range(1, range_value):\n",
    "        prompt = format_dataset_1(\n",
    "            instruction=item[\"instruction\"].strip(),\n",
    "            input=item[\"input\"].strip(),\n",
    "            response=item[\"output\"].strip(),\n",
    "            position=pos,\n",
    "        )\n",
    "        # print(prompt)\n",
    "        new_dataset.append({\"prompt\": prompt})\n",
    "\n",
    "    for pos in range(1, range_value):\n",
    "        prompt = format_dataset_1(\n",
    "            instruction=item[\"instruction\"].strip(),\n",
    "            input=item[\"input\"].strip(),\n",
    "            response=item[\"alternative_output\"].strip(),\n",
    "            position=pos,\n",
    "        )\n",
    "        # print(prompt)\n",
    "        new_dataset.append({\"prompt\": prompt})\n",
    "\n",
    "    # if i > 400:\n",
    "    #     break\n",
    "\n",
    "with open(\n",
    "    \"./datasets_processed/IlyaGusev_ru_turbo_alpaca_formatted.json\",\n",
    "    \"w\",\n",
    "    encoding=\"utf-8\",\n",
    ") as f:\n",
    "    json.dump(new_dataset, f)\n"
   ]
  },
  {
   "attachments": {},
   "cell_type": "markdown",
   "metadata": {},
   "source": [
    "### Concatenate datasets"
   ]
  },
  {
   "cell_type": "code",
   "execution_count": 40,
   "metadata": {},
   "outputs": [
    {
     "name": "stderr",
     "output_type": "stream",
     "text": [
      "Found cached dataset json (/home/kosenko/.cache/huggingface/datasets/json/default-e158bf349ed9ee67/0.0.0/fe5dd6ea2639a6df622901539cb550cf8797e5a6b2dd7af1cf934bed8e233e6e)\n",
      "100%|██████████| 1/1 [00:00<00:00, 27.71it/s]\n"
     ]
    },
    {
     "data": {
      "text/plain": [
       "{'instruction': 'Provide an overview of the process of human evolution.',\n",
       " 'input': '',\n",
       " 'response': \"Human evolution began millions of years ago with the emergence of common ancestors of humans, chimpanzees, and gorillas. The process involved a series of distinct species branching off and evolving separately, with some leading to modern humans, Homo sapiens. Key milestones in human evolution include the appearance of the first hominids (human-like primates), the development of bipedalism (walking upright), and the growth of larger brains. Over time, hominids developed more advanced tools, communication abilities, and social structures. The timeline of human evolution includes several genera such as Ardipithecus, Australopithecus, Paranthropus, and Homo. Noteworthy species include Ardipithecus ramidus, Australopithecus afarensis 'Lucy,' Homo habilis, Homo erectus, Homo neanderthalensis (Neanderthals), and finally, Homo sapiens. The process of human evolution was influenced by factors such as migration, climate change, and genetic mutations, leading to the diverse populations and cultures that exist today.\"}"
      ]
     },
     "execution_count": 40,
     "metadata": {},
     "output_type": "execute_result"
    }
   ],
   "source": [
    "data = load_dataset(\n",
    "    \"json\", data_files=\"./datasets/GPTeacher_gpt4_instruct_dedupe_only_dataset.json\"\n",
    ")\n",
    "data[\"train\"][0]\n"
   ]
  },
  {
   "cell_type": "code",
   "execution_count": 42,
   "metadata": {},
   "outputs": [],
   "source": [
    "import json\n",
    "\n",
    "new_dataset = []\n",
    "for i, item in enumerate(data[\"train\"]):\n",
    "    range_value = 2\n",
    "    if len(item[\"input\"].strip()) > 0:\n",
    "        range_value = 3\n",
    "\n",
    "    for pos in range(1, range_value):\n",
    "        prompt = format_dataset_1(\n",
    "            instruction=item[\"instruction\"].strip(),\n",
    "            input=item[\"input\"].strip(),\n",
    "            response=item[\"response\"].strip(),\n",
    "            position=pos,\n",
    "        )\n",
    "        # print(prompt)\n",
    "        new_dataset.append({\"prompt\": prompt})\n",
    "\n",
    "    # if i > 400:\n",
    "    #     break\n",
    "\n",
    "with open(\n",
    "    \"./datasets_processed/GPTeacher_gpt4_instruct_dedupe_only_dataset_formatted.json\",\n",
    "    \"w\",\n",
    "    encoding=\"utf-8\",\n",
    ") as f:\n",
    "    json.dump(new_dataset, f)\n"
   ]
  },
  {
   "cell_type": "code",
   "execution_count": 4,
   "metadata": {},
   "outputs": [
    {
     "name": "stderr",
     "output_type": "stream",
     "text": [
      "Found cached dataset json (/home/kosenko/.cache/huggingface/datasets/json/default-01433fbf762102fe/0.0.0/fe5dd6ea2639a6df622901539cb550cf8797e5a6b2dd7af1cf934bed8e233e6e)\n",
      "100%|██████████| 1/1 [00:00<00:00, 770.02it/s]\n"
     ]
    },
    {
     "data": {
      "text/plain": [
       "{'instruction': 'Imagine you are a detective trying to solve a murder mystery in a fictional Victorian-era town. Describe the scene of the crime, the main suspects, and your plan to investigate the case.',\n",
       " 'input': '',\n",
       " 'response': \"The scene of the crime is a dimly lit study inside a grand, Victorian-era mansion. There's a large oak desk at the center of the room, and the deceased, Lord Barrington, lies slumped over it with a gunshot wound to the chest. A shattered windowpane hints at the possible point of entry for the assailant. The three main suspects are: 1) Lady Barrington, the victim's wife, who had increasing disputes with her husband; 2) Randall, the family's loyal butler, who recently discovered he was going to be replaced; and 3) Edgar, a distant cousin, who expected a large inheritance if Lord Barrington passed away. My plan to investigate the case includes: interviewing each suspect about their whereabouts during the crime; examining the broken window for any fingerprints or signs of forced entry; and analyzing the murder weapon, a pistol, to trace its ownership and look for any additional evidence like partial fingerprints or other traces left by the culprit.\"}"
      ]
     },
     "execution_count": 4,
     "metadata": {},
     "output_type": "execute_result"
    }
   ],
   "source": [
    "data = load_dataset(\n",
    "    \"json\",\n",
    "    data_files=\"./datasets/GPTeacher_roleplay_simple_deduped_roleplay_dataset.json\",\n",
    ")\n",
    "data[\"train\"][0]\n"
   ]
  },
  {
   "cell_type": "code",
   "execution_count": 7,
   "metadata": {},
   "outputs": [],
   "source": [
    "import json\n",
    "\n",
    "new_dataset = []\n",
    "for i, item in enumerate(data[\"train\"]):\n",
    "    range_value = 2\n",
    "    if len(item[\"input\"].strip()) > 0:\n",
    "        range_value = 3\n",
    "\n",
    "    for pos in range(1, range_value):\n",
    "        prompt = format_dataset_1(\n",
    "            instruction=item[\"instruction\"].strip(),\n",
    "            input=item[\"input\"].strip(),\n",
    "            response=item[\"response\"].strip(),\n",
    "            position=pos,\n",
    "        )\n",
    "        # print(prompt)\n",
    "        new_dataset.append({\"prompt\": prompt})\n",
    "\n",
    "    # if i > 400:\n",
    "    #     break\n",
    "\n",
    "with open(\n",
    "    \"./datasets_processed/GPTeacher_roleplay_simple_deduped_roleplay_dataset_formatted.json\",\n",
    "    \"w\",\n",
    "    encoding=\"utf-8\",\n",
    ") as f:\n",
    "    json.dump(new_dataset, f)\n"
   ]
  },
  {
   "cell_type": "code",
   "execution_count": 8,
   "metadata": {},
   "outputs": [
    {
     "name": "stderr",
     "output_type": "stream",
     "text": [
      "Found cached dataset json (/home/kosenko/.cache/huggingface/datasets/json/default-7bbfffc5babdf4a7/0.0.0/fe5dd6ea2639a6df622901539cb550cf8797e5a6b2dd7af1cf934bed8e233e6e)\n",
      "100%|██████████| 1/1 [00:00<00:00, 69.58it/s]\n"
     ]
    },
    {
     "data": {
      "text/plain": [
       "{'instruction': 'toolformer: enabled\\ntoolformer access: wikipedia\\nA wrapper around Wikipedia. Useful for when you need to display general information about people, places, companies, historical events, or other subjects found in an encyclopedia, displays a snippet summary of the topic. Input should be a search query.\\nwikipedia(query)\\nProvide a summary of a famous historical event based on the input event given',\n",
       " 'input': 'French Revolution',\n",
       " 'response': \"Summary of the French Revolution: wikipedia('French Revolution')\"}"
      ]
     },
     "execution_count": 8,
     "metadata": {},
     "output_type": "execute_result"
    }
   ],
   "source": [
    "data = load_dataset(\n",
    "    \"json\", data_files=\"./datasets/GPTeacher_toolformer_dedupe_only_dataset.json\"\n",
    ")\n",
    "data[\"train\"][0]\n"
   ]
  },
  {
   "cell_type": "code",
   "execution_count": 10,
   "metadata": {},
   "outputs": [],
   "source": [
    "import json\n",
    "\n",
    "new_dataset = []\n",
    "for i, item in enumerate(data[\"train\"]):\n",
    "    range_value = 2\n",
    "    if len(item[\"input\"].strip()) > 0:\n",
    "        range_value = 3\n",
    "\n",
    "    for pos in range(1, range_value):\n",
    "        prompt = format_dataset_1(\n",
    "            instruction=item[\"instruction\"].strip(),\n",
    "            input=item[\"input\"].strip(),\n",
    "            response=item[\"response\"].strip(),\n",
    "            position=pos,\n",
    "        )\n",
    "        # print(prompt)\n",
    "        new_dataset.append({\"prompt\": prompt})\n",
    "\n",
    "    # if i > 400:\n",
    "    #     break\n",
    "\n",
    "with open(\n",
    "    \"./datasets_processed/GPTeacher_toolformer_dedupe_only_dataset_formatted.json\",\n",
    "    \"w\",\n",
    "    encoding=\"utf-8\",\n",
    ") as f:\n",
    "    json.dump(new_dataset, f)\n"
   ]
  },
  {
   "cell_type": "code",
   "execution_count": 11,
   "metadata": {},
   "outputs": [
    {
     "name": "stderr",
     "output_type": "stream",
     "text": [
      "Found cached dataset json (/home/kosenko/.cache/huggingface/datasets/json/default-d44ee1dfbfe5132d/0.0.0/fe5dd6ea2639a6df622901539cb550cf8797e5a6b2dd7af1cf934bed8e233e6e)\n",
      "100%|██████████| 1/1 [00:00<00:00,  1.92it/s]\n"
     ]
    },
    {
     "data": {
      "text/plain": [
       "{'question': 'Why is every book I hear about a \" NY Times # 1 Best Seller \" ? ELI5 : Why is every book I hear about a \" NY Times # 1 Best Seller \" ? Should n\\'t there only be one \" # 1 \" best seller ? Please explain like I\\'m five.',\n",
       " 'human_answers': ['Basically there are many categories of \" Best Seller \" . Replace \" Best Seller \" by something like \" Oscars \" and every \" best seller \" book is basically an \" oscar - winning \" book . May not have won the \" Best film \" , but even if you won the best director or best script , you \\'re still an \" oscar - winning \" film . Same thing for best sellers . Also , IIRC the rankings change every week or something like that . Some you might not be best seller one week , but you may be the next week . I guess even if you do n\\'t stay there for long , you still achieved the status . Hence , # 1 best seller .',\n",
       "  \"If you 're hearing about it , it 's because it was a very good or very well - publicized book ( or both ) , and almost every good or well - publicized book will be # 1 on the NY Times bestseller list for at least a little bit . Kindof like how almost every big or good movies are # 1 at the box office on their opening weekend .\",\n",
       "  \"One reason is lots of catagories . However , how the NY Times calculates its best seller list is n't comprehensive , and is pretty well understood by publishers . So publishers can [ buy a few books ] ( URL_0 ) in the right bookstores and send a book to the top of the list for at least a week .\"],\n",
       " 'chatgpt_answers': ['There are many different best seller lists that are published by various organizations, and the New York Times is just one of them. The New York Times best seller list is a weekly list that ranks the best-selling books in the United States based on sales data from a number of different retailers. The list is published in the New York Times newspaper and is widely considered to be one of the most influential best seller lists in the book industry. \\nIt\\'s important to note that the New York Times best seller list is not the only best seller list out there, and there are many other lists that rank the top-selling books in different categories or in different countries. So it\\'s possible that a book could be a best seller on one list but not on another. \\nAdditionally, the term \"best seller\" is often used more broadly to refer to any book that is selling well, regardless of whether it is on a specific best seller list or not. So it\\'s possible that you may hear about a book being a \"best seller\" even if it is not specifically ranked as a number one best seller on the New York Times list or any other list.'],\n",
       " 'index': None,\n",
       " 'source': 'reddit_eli5'}"
      ]
     },
     "execution_count": 11,
     "metadata": {},
     "output_type": "execute_result"
    }
   ],
   "source": [
    "data = load_dataset(\"json\", data_files=\"./datasets/Hello_SimpleAI_HC3.jsonl\")\n",
    "data[\"train\"][0]\n"
   ]
  },
  {
   "cell_type": "code",
   "execution_count": 13,
   "metadata": {},
   "outputs": [],
   "source": [
    "import json\n",
    "\n",
    "new_dataset = []\n",
    "for i, item in enumerate(data[\"train\"]):\n",
    "    for answer in item[\"human_answers\"]:\n",
    "        prompt = format_dataset_1(\n",
    "            instruction=item[\"question\"].strip(),\n",
    "            response=answer.strip(),\n",
    "            position=1,\n",
    "        )\n",
    "        # print(prompt)\n",
    "        new_dataset.append({\"prompt\": prompt})\n",
    "\n",
    "    for answer in item[\"chatgpt_answers\"]:\n",
    "        prompt = format_dataset_1(\n",
    "            instruction=item[\"question\"].strip(),\n",
    "            response=answer.strip(),\n",
    "            position=1,\n",
    "        )\n",
    "        # print(prompt)\n",
    "        new_dataset.append({\"prompt\": prompt})\n",
    "\n",
    "    # if i > 100:\n",
    "    #     break\n",
    "\n",
    "with open(\n",
    "    \"./datasets_processed/Hello_SimpleAI_HC3_formatted.json\",\n",
    "    \"w\",\n",
    "    encoding=\"utf-8\",\n",
    ") as f:\n",
    "    json.dump(new_dataset, f)\n"
   ]
  },
  {
   "cell_type": "code",
   "execution_count": 14,
   "metadata": {},
   "outputs": [
    {
     "name": "stderr",
     "output_type": "stream",
     "text": [
      "Found cached dataset json (/home/kosenko/.cache/huggingface/datasets/json/default-7fedc8292005cb0c/0.0.0/fe5dd6ea2639a6df622901539cb550cf8797e5a6b2dd7af1cf934bed8e233e6e)\n",
      "100%|██████████| 1/1 [00:01<00:00,  1.57s/it]\n"
     ]
    },
    {
     "data": {
      "text/plain": [
       "{'id': 'QWJhYvA_0',\n",
       " 'conversations': [{'from': 'human',\n",
       "   'markdown': None,\n",
       "   'text': None,\n",
       "   'value': \"Summarize the main ideas of Jeff Walker's Product Launch Formula into bullet points as it pertains to a growth marketing agency implementing these strategies and tactics for their clients...\"},\n",
       "  {'from': 'gpt',\n",
       "   'markdown': None,\n",
       "   'text': None,\n",
       "   'value': \"Here are the main ideas of Jeff Walker's Product Launch Formula that can be applied by a growth marketing agency for their clients:\\n\\n1. Identify the target audience and their needs: Understand the ideal customer for the product or service, and create a messaging that resonates with them.\\n2. Pre-launch: Build anticipation and excitement for the launch by creating buzz, gathering testimonials and case studies, and using social media to create awareness.\\n3. Launch: Use a well-crafted launch sequence to maximize sales and conversions. This can include offering bonuses, creating scarcity, and using a deadline to create urgency.\\n4. Post-launch: Follow up with customers, gather feedback, and continue to provide value to keep them engaged and loyal.\\n5. Create a product suite: Once the initial product is successful, expand the offering by creating additional products or services that address other needs of the same audience.\\n6. Continual optimization: Continually monitor and optimize the launch process and product suite to improve results.\\n7. Build a community: Use the launch process to build a community of customers who are passionate about the product and can help spread the word.\\n8. Use automation: Use technology and automation to streamline the launch process and improve efficiency.\"},\n",
       "  {'from': 'human',\n",
       "   'markdown': None,\n",
       "   'text': None,\n",
       "   'value': \"Summarize the main ideas of Brendon Burchard's Experts Academy into bullet points as it pertains to a growth marketing agency implementing these strategies and tactics for their clients...\"},\n",
       "  {'from': 'gpt',\n",
       "   'markdown': None,\n",
       "   'text': None,\n",
       "   'value': \"Here are the main ideas of Brendon Burchard's Experts Academy that can be applied by a growth marketing agency for their clients:\\n\\n1. Identify your expertise: Define your area of expertise and create a unique value proposition that differentiates you from others.\\n2. Create a content strategy: Develop a content strategy that showcases your expertise and provides value to your audience. This can include blog posts, videos, podcasts, and social media content.\\n3. Build your audience: Use social media, advertising, and other channels to build your audience and increase your visibility.\\n4. Develop your products: Create products and services that align with your expertise and meet the needs of your audience. These can include digital products, courses, coaching, and consulting services.\\n5. Create a brand: Develop a strong brand that reflects your expertise and resonates with your audience.\\n6. Build authority: Establish yourself as an authority in your industry by speaking at events, publishing a book, or appearing on podcasts or TV shows.\\n7. Monetize your expertise: Develop a monetization strategy that leverages your expertise and products to generate revenue.\\n8. Build a team: As your business grows, build a team of experts to help you scale your business and provide excellent service to your clients.\\n9. Continual improvement: Continually improve your products, services, and marketing strategies to stay ahead of the competition and provide the best possible experience for your clients.\\n10. Focus on impact: Ultimately, focus on making a positive impact in the lives of your clients and using your expertise to make a difference in the world.\"},\n",
       "  {'from': 'human',\n",
       "   'markdown': None,\n",
       "   'text': None,\n",
       "   'value': 'What are the mental triggers in Jeff Walker\\'s Product Launch Formula and \"Launch\" book?'},\n",
       "  {'from': 'gpt',\n",
       "   'markdown': None,\n",
       "   'text': None,\n",
       "   'value': 'Here are the mental triggers described in Jeff Walker\\'s Product Launch Formula and \"Launch\" book:\\n\\n1. Scarcity: Creating a sense of urgency by limiting the availability of the product or service being launched.\\n2. Authority: Establishing oneself as an expert or authority in the industry to build credibility and trust with the audience.\\n3. Social proof: Using testimonials, case studies, and other forms of social proof to demonstrate the effectiveness and value of the product or service.\\n4. Reciprocity: Offering something of value to the audience before asking for a sale or commitment.\\n5. Likeability: Building a personal connection with the audience and creating a likable persona to increase the chances of a sale.\\n6. Anticipation: Building anticipation and excitement leading up to the launch to generate buzz and increase interest in the product or service.\\n7. Exclusivity: Creating a feeling of exclusivity by offering early access or special deals to a select group of people.\\n8. Belonging: Creating a sense of community or belonging among the audience to increase engagement and loyalty to the brand.\\n9. Storytelling: Using storytelling to connect with the audience on an emotional level and make the product or service more relatable and memorable.\\n\\nBy leveraging these mental triggers, businesses can create an effective product launch strategy that resonates with their target audience and drives sales and growth.'},\n",
       "  {'from': 'human',\n",
       "   'markdown': None,\n",
       "   'text': None,\n",
       "   'value': 'Write a summary of why scarcity and urgency are the strongest mental triggers and have been the driving force behind many of our best performing campaigns over the last 8 years.'},\n",
       "  {'from': 'gpt',\n",
       "   'markdown': None,\n",
       "   'text': None,\n",
       "   'value': \"Scarcity and urgency are two of the strongest mental triggers in marketing because they create a sense of exclusivity and importance around a product or service. By creating a sense of limited availability or a deadline for a promotion, businesses can motivate customers to take action and make a purchase before it's too late.\\n\\nOver the last eight years, many businesses have leveraged these triggers in their marketing campaigns to great success. Scarcity and urgency have been used to sell everything from digital products to physical goods and services, and have proven to be highly effective in driving conversions and increasing revenue.\\n\\nThis is because scarcity and urgency tap into the natural human desire for instant gratification and fear of missing out (FOMO). When customers believe that they may miss out on a valuable opportunity if they don't act quickly, they are more likely to take action and make a purchase.\\n\\nFurthermore, scarcity and urgency can be combined with other mental triggers, such as social proof and authority, to create even more powerful marketing campaigns. By demonstrating the popularity and effectiveness of a product or service, businesses can increase the perceived value and urgency of a promotion, leading to even more sales and revenue.\\n\\nOverall, scarcity and urgency are powerful mental triggers that have been proven to drive results in marketing campaigns. By leveraging these triggers, businesses can create a sense of urgency and exclusivity around their products or services, motivating customers to take action and make a purchase before it's too late.\"},\n",
       "  {'from': 'human',\n",
       "   'markdown': None,\n",
       "   'text': None,\n",
       "   'value': \"Summarize Russell Brunson's Perfect Webinar Script...\"},\n",
       "  {'from': 'gpt',\n",
       "   'markdown': None,\n",
       "   'text': None,\n",
       "   'value': \"Russell Brunson's Perfect Webinar Script is a framework for delivering webinars that are designed to sell a product or service. Here are the key components of the Perfect Webinar Script:\\n\\n1. Introduction: The webinar starts with an introduction that establishes the presenter's credibility and establishes the topic.\\n2. Story: The presenter then tells a personal story that is related to the topic and establishes a connection with the audience.\\n3. Content: The presenter provides valuable content related to the topic, demonstrating their expertise and building trust with the audience.\\n4. Offer: The presenter then introduces the product or service they are selling, explaining how it solves the audience's problem and providing social proof to support their claims.\\n5. Bonuses: The presenter offers bonuses to sweeten the deal and make the offer more enticing.\\n6. Scarcity: The presenter creates a sense of urgency by limiting the availability of the offer or including a deadline for purchase.\\n7. FAQs: The presenter answers common questions about the offer, addressing objections and building trust with the audience.\\n8. Closing: The presenter then delivers a clear call to action, directing the audience to take a specific action to purchase the product or service.\\n\\nOverall, the Perfect Webinar Script is designed to build trust with the audience, establish the presenter's credibility, and provide valuable content, while also creating a sense of urgency and scarcity around the offer being presented. By following this framework, businesses can use webinars as a powerful tool to sell their products and services to a targeted audience.\"},\n",
       "  {'from': 'human',\n",
       "   'markdown': None,\n",
       "   'text': None,\n",
       "   'value': 'Summarize the 6 human needs as Tony Robbins explains...'},\n",
       "  {'from': 'gpt',\n",
       "   'markdown': None,\n",
       "   'text': None,\n",
       "   'value': 'Tony Robbins describes six core human needs that drive our behaviors and motivations. These six needs are:\\n\\n1. Certainty: The need for safety, stability, and predictability. This includes the need for comfort, security, and control over our environment.\\n2. Variety: The need for novelty, excitement, and change. This includes the need for adventure, stimulation, and new experiences.\\n3. Significance: The need to feel important, special, and unique. This includes the need for recognition, achievement, and respect.\\n4. Connection: The need for social connection and love. This includes the need for intimacy, belonging, and friendship.\\n5. Growth: The need for personal growth and development. This includes the need for learning, self-improvement, and progress.\\n6. Contribution: The need to make a positive impact in the world. This includes the need to give back, help others, and make a difference.\\n\\nAccording to Tony Robbins, these six needs are universal and apply to all individuals. Each person may prioritize these needs differently, and may fulfill them in different ways, but they are fundamental drivers of human behavior. By understanding these needs, individuals can gain insight into their own motivations and behaviors, and can use this knowledge to create a more fulfilling and meaningful life.'}]}"
      ]
     },
     "execution_count": 14,
     "metadata": {},
     "output_type": "execute_result"
    }
   ],
   "source": [
    "data = load_dataset(\n",
    "    \"json\", data_files=\"./datasets/ShareGPT_V2_unfiltered_cleaned_split.json\"\n",
    ")\n",
    "data[\"train\"][0]\n"
   ]
  },
  {
   "cell_type": "code",
   "execution_count": 18,
   "metadata": {},
   "outputs": [
    {
     "data": {
      "text/plain": [
       "4"
      ]
     },
     "execution_count": 18,
     "metadata": {},
     "output_type": "execute_result"
    }
   ],
   "source": [
    "5 // 2 * 2\n"
   ]
  },
  {
   "cell_type": "code",
   "execution_count": 30,
   "metadata": {},
   "outputs": [],
   "source": [
    "import json\n",
    "\n",
    "new_dataset = []\n",
    "for i, item in enumerate(data[\"train\"]):\n",
    "    conversations = item[\"conversations\"]\n",
    "    if len(conversations) > 0:\n",
    "        while conversations[0][\"from\"] == \"gpt\":\n",
    "            conversations.pop(0)\n",
    "            # print(conversations)\n",
    "            if len(conversations) == 0:\n",
    "                break\n",
    "\n",
    "        conversations = conversations[: len(conversations) // 2 * 2]\n",
    "        # print(conversations)\n",
    "        for i in range(0, len(conversations), 2):\n",
    "            human = item[\"conversations\"][i][\"value\"]\n",
    "            bot = item[\"conversations\"][i + 1][\"value\"]\n",
    "\n",
    "            prompt = format_dataset_1(\n",
    "                instruction=human.strip(),\n",
    "                response=bot.strip(),\n",
    "                position=1,\n",
    "            )\n",
    "            # print(prompt)\n",
    "            new_dataset.append({\"prompt\": prompt})\n",
    "\n",
    "    # if i > 100:\n",
    "    #     break\n",
    "\n",
    "with open(\n",
    "    \"./datasets_processed/ShareGPT_V2_unfiltered_cleaned_split_formatted.json\",\n",
    "    \"w\",\n",
    "    encoding=\"utf-8\",\n",
    ") as f:\n",
    "    json.dump(new_dataset, f)\n"
   ]
  },
  {
   "cell_type": "code",
   "execution_count": 32,
   "metadata": {},
   "outputs": [
    {
     "data": {
      "text/plain": [
       "{'id': 'Og9h3C1',\n",
       " 'conversations': [{'from': 'human',\n",
       "   'value': \"root@openvpn:/home/openvpn# ./openvpn-install.sh\\nWelcome to OpenVPN-install!\\nThe git repository is available at: https://github.com/angristan/openvpn-install\\n\\nIt looks like OpenVPN is already installed.\\n\\nWhat do you want to do?\\n   1) Add a new user\\n   2) Revoke existing user\\n   3) Remove OpenVPN\\n   4) Exit\\nSelect an option [1-4]: 1\\n\\nTell me a name for the client.\\nThe name must consist of alphanumeric character. It may also include an underscore or a dash.\\nClient name: naam\\n\\nDo you want to protect the configuration file with a password?\\n(e.g. encrypt the private key with a password)\\n   1) Add a passwordless client\\n   2) Use a password for the client\\nSelect an option [1-2]: 1\\n\\nNote: using Easy-RSA configuration from: /etc/openvpn/easy-rsa/vars\\nUsing SSL: openssl OpenSSL 3.0.2 15 Mar 2022 (Library: OpenSSL 3.0.2 15 Mar 2022)\\n-----\\nUsing configuration from /etc/openvpn/easy-rsa/pki/easy-rsa-54848.BT2FXv/tmp.dFLd6V\\nEnter pass phrase for /etc/openvpn/easy-rsa/pki/private/ca.key:\\nCheck that the request matches the signature\\nSignature ok\\nThe Subject's Distinguished Name is as follows\\ncommonName            :ASN.1 12:'naam'\\nCertificate is to be certified until Apr 21 22:48:57 2025 GMT (825 days)\\n\\nWrite out database with 1 new entries\\nData Base Updated\\n\\nClient naam added.\\n\\nThe configuration file has been written to /home/openvpn/naam.ovpn.\\nDownload the .ovpn file and import it in your OpenVPN client.\\nroot@openvpn:/home/openvpn# \\n\\n\\nkan je op basis van deze gegevens een verslag maken hoe je iemand toevoegd op een openvpn server\"},\n",
       "  {'from': 'gpt',\n",
       "   'value': '<div class=\"markdown prose w-full break-words dark:prose-invert dark\"><p>Op basis van de gegevens in de prompt log kan worden opgemerkt dat een script genaamd \"openvpn-install.sh\" wordt uitgevoerd op een OpenVPN server. Het script lijkt te controleren of OpenVPN al is geïnstalleerd op de server en geeft vervolgens de gebruiker de optie om een nieuwe gebruiker toe te voegen, een bestaande gebruiker te intrekken, OpenVPN te verwijderen of het script te verlaten.</p><p>De gebruiker kiest vervolg</p></div>'},\n",
       "  {'from': 'human', 'value': 'sorry kan je een gebruikershandleiding maken?'},\n",
       "  {'from': 'gpt',\n",
       "   'value': '<div class=\"markdown prose w-full break-words dark:prose-invert dark\"><ol><li><p>Open een terminal op de OpenVPN server en navigeer naar de map waar het script \"openvpn-install.sh\" is opgeslagen.</p></li><li><p>Voer het script uit met behulp van de volgende opdracht: <code>./openvpn-install.sh</code></p></li><li><p>Selecteer de optie \"1\" om een nieuwe gebruiker toe te voegen.</p></li><li><p>Voer een naam in voor de client, de naam mag alleen bestaan uit letters, cijfers, underscores en streepjes.</p></li><li><p>Kies of je een wachtwoord wilt instellen voor de configuratiebestanden of niet.</p></li><li><p>Voer eventueel een wachtwoord in voor de private key.</p></li><li><p>De client zal nu worden toegevoegd en de configuratiebestanden zullen worden opgeslagen in de map \"/home/openvpn/\". Download het .ovpn bestand en importeer deze in de OpenVPN client van de gebruiker.</p></li><li><p>De gebruiker kan nu verbinding maken met de OpenVPN server met behulp van de geïmporteerde configuratiebestanden en eventueel ingevoerde wachtwoord.</p></li><li><p>Als de gebruiker de toegang tot de server niet meer nodig heeft, kan deze worden ingetrokken met optie 2 of verwijderd met optie 3.</p></li></ol></div>'},\n",
       "  {'from': 'human',\n",
       "   'value': 'kan je uitleg geven waarom je als je passwordless user kiest dat je alsnog een wachtwoord moet invoeren voor wat is dat?\\n\\nDo you want to protect the configuration file with a password?\\n(e.g. encrypt the private key with a password)\\n   1) Add a passwordless client\\n   2) Use a password for the client\\nSelect an option [1-2]: 1\\n\\nNote: using Easy-RSA configuration from: /etc/openvpn/easy-rsa/vars\\nUsing SSL: openssl OpenSSL 3.0.2 15 Mar 2022 (Library: OpenSSL 3.0.2 15 Mar 2022)\\n-----\\nUsing configuration from /etc/openvpn/easy-rsa/pki/easy-rsa-55459.c7BK5D/tmp.gWMi5Q\\nEnter pass phrase for /etc/openvpn/easy-rsa/pki/private/ca.key:\\n\\n'},\n",
       "  {'from': 'gpt',\n",
       "   'value': '<div class=\"markdown prose w-full break-words dark:prose-invert dark\"><p>De optie om een \"passwordless client\" toe te voegen, betekent dat de gebruiker geen wachtwoord hoeft in te voeren om verbinding te maken met de OpenVPN server. Dit betekent echter niet dat de configuratiebestanden zelf niet beveiligd zijn.</p><p>De configuratiebestanden bevatten een private key die gebruikt wordt voor encryptie tijdens de VPN verbinding. Deze private key moet worden beveiligd tegen onbevoegde toegang. Een mogelijkheid om deze key te beveiligen is door middel van een wachtwoord. Hierdoor kan alleen iemand met het juiste wachtwoord de configuratiebestanden openen en de verbinding maken.</p><p>In dit geval, wanneer de gebruiker kiest voor een \"passwordless client\", wordt er nog steeds gevraagd om een wachtwoord te voeren voor de private key, Omdat deze key nog steeds beveiligd moet worden, ondanks dat de client zelf geen wachtwoord hoeft in te voeren.</p></div>'},\n",
       "  {'from': 'human', 'value': 'kan het iets korter?'},\n",
       "  {'from': 'gpt',\n",
       "   'value': '<div class=\"markdown prose w-full break-words dark:prose-invert dark\"><p>Ja, de keuze voor een \"passwordless client\" betekent dat de gebruiker geen wachtwoord hoeft in te voeren om verbinding te maken met de OpenVPN server, maar de configuratiebestanden bevatten nog wel een private key die beveiligd moet worden tegen onbevoegde toegang, daarom wordt er nog steeds om een wachtwoord gevraagd voor de private key.</p></div>'},\n",
       "  {'from': 'human',\n",
       "   'value': \"root@openvpn:/home/openvpn# ./openvpn-install.sh\\nWelcome to OpenVPN-install!\\nThe git repository is available at: https://github.com/angristan/openvpn-install\\n\\nIt looks like OpenVPN is already installed.\\n\\nWhat do you want to do?\\n   1) Add a new user\\n   2) Revoke existing user\\n   3) Remove OpenVPN\\n   4) Exit\\nSelect an option [1-4]: 1\\n\\nTell me a name for the client.\\nThe name must consist of alphanumeric character. It may also include an underscore or a dash.\\nClient name: mskvm\\n\\nDo you want to protect the configuration file with a password?\\n(e.g. encrypt the private key with a password)\\n   1) Add a passwordless client\\n   2) Use a password for the client\\nSelect an option [1-2]: 2\\n⚠️ You will be asked for the client password below ⚠️\\n\\nNote: using Easy-RSA configuration from: /etc/openvpn/easy-rsa/vars\\nUsing SSL: openssl OpenSSL 3.0.2 15 Mar 2022 (Library: OpenSSL 3.0.2 15 Mar 2022)\\nEnter PEM pass phrase:\\nVerifying - Enter PEM pass phrase:\\n-----\\nUsing configuration from /etc/openvpn/easy-rsa/pki/easy-rsa-58936.uwBPnl/tmp.pw9csB\\nEnter pass phrase for /etc/openvpn/easy-rsa/pki/private/ca.key:\\nCheck that the request matches the signature\\nSignature ok\\nThe Subject's Distinguished Name is as follows\\ncommonName            :ASN.1 12:'mskvm'\\nCertificate is to be certified until Apr 22 11:22:05 2025 GMT (825 days)\\n\\nWrite out database with 1 new entries\\nData Base Updated\\n\\nClient mskvm added.\\n\\nThe configuration file has been written to /home/openvpn/mskvm.ovpn.\\nDownload the .ovpn file and import it in your OpenVPN client.\\nroot@openvpn:/home/openvpn# \\n\\nkan je hier ook zo'n gebruikershandleiding maken als wat je hierboven had gedaan\"},\n",
       "  {'from': 'gpt',\n",
       "   'value': '<div class=\"markdown prose w-full break-words dark:prose-invert dark\"><p>Ja, hier is een gebruikershandleiding voor het toevoegen van een gebruiker met een wachtwoord aan een OpenVPN server:</p><ol><li><p>Open een terminal op de OpenVPN server en navigeer naar de map waar het script \"openvpn-install.sh\" is opgeslagen.</p></li><li><p>Voer het script uit met behulp van de volgende opdracht: <code>./openvpn-install.sh</code></p></li><li><p>Selecteer de optie \"1\" om een nieuwe gebruiker toe te voegen.</p></li><li><p>Voer een naam in voor de client, de naam mag alleen bestaan uit letters, cijfers, underscores en streepjes.</p></li><li><p>Kies voor optie 2 \"Use a password for the client\"</p></li><li><p>Voer het wachtwoord voor de client in wanneer hierom wordt gevraagd.</p></li><li><p>Voer het wachtwoord voor de private key in wanneer hierom wordt gevraagd.</p></li><li><p>De client zal nu worden toegevoegd en de configuratiebestanden zullen worden opgeslagen in de map \"/home/openvpn/\". Download het .ovpn bestand en importeer deze in de OpenVPN client van de gebruiker.</p></li><li><p>De gebruiker kan nu verbinding maken met de OpenVPN server met behulp van de geïmporteerde configuratiebestanden en het ingevoerde wachtwoord.</p></li><li><p>Als de gebruiker de toegang tot de server niet meer nodig heeft, kan deze worden ingetrokken met optie 2 of verwijderd met optie 3.</p></li></ol></div>'},\n",
       "  {'from': 'human',\n",
       "   'value': 'root@openvpn:/home/openvpn# ./openvpn-install.sh\\nWelcome to OpenVPN-install!\\nThe git repository is available at: https://github.com/angristan/openvpn-install\\n\\nIt looks like OpenVPN is already installed.\\n\\nWhat do you want to do?\\n   1) Add a new user\\n   2) Revoke existing user\\n   3) Remove OpenVPN\\n   4) Exit\\nSelect an option [1-4]: 2\\n\\nSelect the existing client certificate you want to revoke\\n     1) test01\\n     2) test\\n     3) Interwance\\nSelect one client [1-3]: 3\\nUsing SSL: openssl OpenSSL 3.0.2 15 Mar 2022 (Library: OpenSSL 3.0.2 15 Mar 2022)\\nUsing configuration from /etc/openvpn/easy-rsa/pki/easy-rsa-59670.A6n3iK/tmp.2nlJX3\\nEnter pass phrase for /etc/openvpn/easy-rsa/pki/private/ca.key:\\nRevoking Certificate 894BF0E84E4DC76CCC63F09E5458B6EF.\\nData Base Updated\\n\\n\\nNote: using Easy-RSA configuration from: /etc/openvpn/easy-rsa/vars\\nUsing SSL: openssl OpenSSL 3.0.2 15 Mar 2022 (Library: OpenSSL 3.0.2 15 Mar 2022)\\nUsing configuration from /etc/openvpn/easy-rsa/pki/easy-rsa-59708.T1hs86/tmp.dahzdR\\nEnter pass phrase for /etc/openvpn/easy-rsa/pki/private/ca.key:\\n\\nAn updated CRL has been created.\\nCRL file: /etc/openvpn/easy-rsa/pki/crl.pem\\n\\n\\n\\nCertificate for client Interwance revoked.\\nroot@openvpn:/home/openvpn# \\n\\nkan je ook een gebruikershandleiding maken voor gebruiker verwijderen'},\n",
       "  {'from': 'gpt',\n",
       "   'value': '<div class=\"markdown prose w-full break-words dark:prose-invert dark\"><p>Ja, hier is een gebruikershandleiding voor het intrekken (verwijderen) van een gebruiker van een OpenVPN server:</p><ol><li><p>Open een terminal op de OpenVPN server en navigeer naar de map waar het script \"openvpn-install.sh\" is opgeslagen.</p></li><li><p>Voer het script uit met behulp van de volgende opdracht: <code>./openvpn-install.sh</code></p></li><li><p>Selecteer de optie \"2\" om een bestaande gebruiker in te trekken.</p></li><li><p>Kies de gewenste gebruiker uit de lijst van bestaande gebruikers.</p></li><li><p>Voer het wachtwoord voor de private key in wanneer hierom wordt gevraagd.</p></li><li><p>De geselecteerde gebruiker wordt ingetrokken en de configuratiebestanden worden verwijderd.</p></li><li><p>De gebruiker kan nu niet meer verbinding maken met de OpenVPN server met behulp van de configuratiebestanden die eerder werden toegekend.</p></li><li><p>Als u wilt dat de gebruiker niet langer toegang heeft tot de server, raadpleeg dan de CRL (Certificate Revocation List) om te zien of de certificaat van de gebruiker is ingetrokken.</p></li></ol></div>'},\n",
       "  {'from': 'human',\n",
       "   'value': 'Als u wilt dat de gebruiker niet langer toegang heeft tot de server, raadpleeg dan de CRL (Certificate Revocation List) om te zien of de certificaat van de gebruiker is ingetrokken\\nhoe doe ik dat'},\n",
       "  {'from': 'gpt',\n",
       "   'value': '<div class=\"markdown prose w-full break-words dark:prose-invert dark\"><p>Er zijn verschillende manieren om de CRL (Certificate Revocation List) te raadplegen om te controleren of een certificaat van een gebruiker is ingetrokken. Hier zijn enkele voorbeelden:</p><ol><li><p>OpenSSL command line tool: U kunt de CRL openen en bekijken met de openssl command line tool door de volgende opdracht uit te voeren op de OpenVPN server: <code>openssl crl -in /etc/openvpn/easy-rsa/pki/crl.pem -noout -text</code></p></li><li><p>Web browser: U kunt de CRL openen en bekijken in een webbrowser door de volgende stappen te volgen:</p><ul><li>Kopieer de CRL-bestand van de OpenVPN server naar een webserver</li><li>Maak een link naar het CRL-bestand op de webserver</li><li>open de link in een webbrowser</li></ul></li><li><p>Via API: U kunt een API ontwikkelen die de CRL raadpleegt en de status van een certificaat opvraagt. Hierdoor kunt u automatisch certificaten blokkeren zonder handmatig te hoeven controleren via de CRL of andere methoden.</p></li></ol><p>Houd er rekening mee dat de CRL alleen geldig is voor de tijd dat het certificaat geldig is, dus als het certificaat is verlopen, is de CRL ook verlopen en is de certificaat niet langer geldig.</p></div>'},\n",
       "  {'from': 'human',\n",
       "   'value': 'root@openvpn:/home/openvpn# openssl crl -in /etc/openvpn/easy-rsa/pki/crl.pem -noout -text\\nCertificate Revocation List (CRL):\\n        Version 2 (0x1)\\n        Signature Algorithm: ecdsa-with-SHA256\\n        Issuer: CN = cn_Nq6PBIU40fr16uEz\\n        Last Update: Jan 18 12:32:37 2023 GMT\\n        Next Update: Jan 15 12:32:37 2033 GMT\\n        CRL extensions:\\n            X509v3 Authority Key Identifier: \\n                keyid:2C:88:C5:0D:F5:0B:1D:4B:89:CF:6B:E2:67:BC:66:F7:0F:E5:26:CA\\n                DirName:/CN=cn_Nq6PBIU40fr16uEz\\n                serial:02:05:4B:01:71:B8:E2:48:85:93:28:B9:5A:B2:16:1C:6C:D7:99:2C\\nRevoked Certificates:\\n    Serial Number: 36D56533E9A309E44B460A3A64DA2E3B\\n        Revocation Date: Jan 17 23:02:36 2023 GMT\\n    Serial Number: 4B5F521A8CF489286F0A33648EF21E04\\n        Revocation Date: Jan 17 22:59:19 2023 GMT\\n    Serial Number: 543480A5C4EC9BF021BDE4FB9441E5EF\\n        Revocation Date: Jan 18 12:30:20 2023 GMT\\n    Serial Number: 6400FE37F545C0712F8C99D6F7BE769F\\n        Revocation Date: Jan 18 11:31:14 2023 GMT\\n    Serial Number: 894BF0E84E4DC76CCC63F09E5458B6EF\\n        Revocation Date: Jan 18 12:20:00 2023 GMT\\n    Serial Number: 8EA94740D6450E76035B707BCF52E9B5\\n        Revocation Date: Jan 18 11:32:42 2023 GMT\\n    Serial Number: D2038BA2676A7D6A974EF035C3DD2380\\n        Revocation Date: Jan 18 12:32:22 2023 GMT\\n    Signature Algorithm: ecdsa-with-SHA256\\n    Signature Value:\\n        30:46:02:21:00:f2:6a:97:00:37:6b:47:8f:f2:e1:d9:18:7a:\\n        a3:7b:1c:2c:55:70:20:bf:43:a7:15:17:0b:9f:96:df:32:b9:\\n        a0:02:21:00:b8:fe:ae:e7:3d:ea:a8:37:bb:9c:91:2e:13:81:\\n        2d:21:94:08:62:c4:0f:7e:1b:9f:bc:0a:52:e4:d4:f8:84:bb\\nroot@openvpn:/home/openvpn# \\n\\n\\n wat zie ik hier staan?'},\n",
       "  {'from': 'gpt',\n",
       "   'value': '<div class=\"markdown prose w-full break-words dark:prose-invert dark\"><p>Wat u hier ziet, is een Certificate Revocation List (CRL) die is opgehaald met de openssl command line tool. Een CRL is een lijst van certificaten die zijn ingetrokken en daarom niet langer geldig zijn. Hier is een overzicht van de informatie die u in de CRL ziet:</p><ul><li>Version: Het versienummer van de CRL (versie 2 in dit geval)</li><li>Signature Algorithm: De algoritme gebruikt voor het ondertekenen van de CRL</li><li>Issuer: De naam van de instantie die de CRL heeft uitgegeven</li><li>Last Update: De datum waarop de CRL voor het laatst is bijgewerkt</li><li>Next Update: De datum waarop de CRL voor de volgende keer wordt bijgewerkt</li><li>CRL extensions: Extra informatie die aan de CRL is toegevoegd</li><li>Revoked Certificates: Lijst met certificaten die zijn ingetrokken, met inbegrip van de serienummer en de datum waarop het certificaat is ingetrokken</li><li>Signature Algorithm: De algoritme gebruikt voor het ondertekenen van de CRL</li><li>Signature Value: De waarde van de ondertekening van de CRL</li></ul><p>In de CRL die u hier ziet, zijn er 8 certificaten die zijn ingetrokken, elk met hun serienummer en de datum waarop het certificaat is ingetrokken. Als u een certificaat serienummer in de lijst ziet, dan is dit certificaat niet meer geldig en kan de gebruiker die is gekoppeld aan dit certificaat geen verbinding meer maken met de OpenVPN server.</p></div>'},\n",
       "  {'from': 'human',\n",
       "   'value': 'hoe maak ik weer een gebruiker aan met dezelfde naam als die van iemand die ik daarvoor heb verwijderd met dezelfde naam er staat dat ik niet die naam kan gebruiken door dat de naam al in gebruik is maar die heb ik verwijderd'},\n",
       "  {'from': 'gpt',\n",
       "   'value': '<div class=\"markdown prose w-full break-words dark:prose-invert dark\"><p>Om een nieuwe gebruiker aan te maken met dezelfde naam als een eerder verwijderde gebruiker, zult u eerst de oorspronkelijke certificaten van die gebruiker moeten verwijderen uit de CRL (Certificate Revocation List) en de databank van OpenVPN. Hier is hoe u dit kunt doen:</p><ol><li><p>Verwijder het certificaat van de verwijderde gebruiker uit de CRL. Dit kunt u doen door de CRL te openen met de openssl command line tool en vervolgens het certificaat te verwijderen uit de lijst met ingetrokken certificaten.</p></li><li><p>Verwijder het certificaat van de verwijderde gebruiker uit de databank van OpenVPN. Dit kunt u doen door de volgende commando\\'s uit te voeren op de OpenVPN server:</p></li></ol><pre><div class=\"bg-black mb-4 rounded-md\"><div class=\"flex items-center relative text-gray-200 bg-gray-800 px-4 py-2 text-xs font-sans\"><button class=\"flex ml-auto gap-2\"><svg stroke=\"currentColor\" fill=\"none\" stroke-width=\"2\" viewBox=\"0 0 24 24\" stroke-linecap=\"round\" stroke-linejoin=\"round\" class=\"h-4 w-4\" height=\"1em\" width=\"1em\" xmlns=\"http://www.w3.org/2000/svg\"><path d=\"M16 4h2a2 2 0 0 1 2 2v14a2 2 0 0 1-2 2H6a2 2 0 0 1-2-2V6a2 2 0 0 1 2-2h2\"></path><rect x=\"8\" y=\"2\" width=\"8\" height=\"4\" rx=\"1\" ry=\"1\"></rect></svg>Copy code</button></div><div class=\"p-4 overflow-y-auto\"><code class=\"!whitespace-pre-wrap hljs language-bash\"><span class=\"hljs-built_in\">cd</span> /etc/openvpn/easy-rsa/\\n./easyrsa revoke [client name]\\n./easyrsa gen-crl\\n</code></div></div></pre><ol start=\"3\"><li>Maak een nieuwe client certificaat aan voor de gebruiker met dezelfde naam. Dit kunt u doen door de volgende commando\\'s uit te voeren op de OpenVPN server:</li></ol><pre><div class=\"bg-black mb-4 rounded-md\"><div class=\"flex items-center relative text-gray-200 bg-gray-800 px-4 py-2 text-xs font-sans\"><button class=\"flex ml-auto gap-2\"><svg stroke=\"currentColor\" fill=\"none\" stroke-width=\"2\" viewBox=\"0 0 24 24\" stroke-linecap=\"round\" stroke-linejoin=\"round\" class=\"h-4 w-4\" height=\"1em\" width=\"1em\" xmlns=\"http://www.w3.org/2000/svg\"><path d=\"M16 4h2a2 2 0 0 1 2 2v14a2 2 0 0 1-2 2H6a2 2 0 0 1-2-2V6a2 2 0 0 1 2-2h2\"></path><rect x=\"8\" y=\"2\" width=\"8\" height=\"4\" rx=\"1\" ry=\"1\"></rect></svg>Copy code</button></div><div class=\"p-4 overflow-y-auto\"><code class=\"!whitespace-pre-wrap hljs language-bash\">./easyrsa build-client-full [client name] nopass\\n</code></div></div></pre><ol start=\"4\"><li>Importeer het nieuwe certificaat in de OpenVPN server. Dit kunt u doen door de volgende commando\\'s uit te voeren op</li></ol></div>'},\n",
       "  {'from': 'human', 'value': 'ga door'},\n",
       "  {'from': 'gpt',\n",
       "   'value': '<div class=\"markdown prose w-full break-words dark:prose-invert dark\"><p>de OpenVPN server:</p><pre><div class=\"bg-black mb-4 rounded-md\"><div class=\"flex items-center relative text-gray-200 bg-gray-800 px-4 py-2 text-xs font-sans\"><button class=\"flex ml-auto gap-2\"><svg stroke=\"currentColor\" fill=\"none\" stroke-width=\"2\" viewBox=\"0 0 24 24\" stroke-linecap=\"round\" stroke-linejoin=\"round\" class=\"h-4 w-4\" height=\"1em\" width=\"1em\" xmlns=\"http://www.w3.org/2000/svg\"><path d=\"M16 4h2a2 2 0 0 1 2 2v14a2 2 0 0 1-2 2H6a2 2 0 0 1-2-2V6a2 2 0 0 1 2-2h2\"></path><rect x=\"8\" y=\"2\" width=\"8\" height=\"4\" rx=\"1\" ry=\"1\"></rect></svg>Copy code</button></div><div class=\"p-4 overflow-y-auto\"><code class=\"!whitespace-pre-wrap hljs language-bash\"><span class=\"hljs-built_in\">cd</span> /etc/openvpn/easy-rsa/pki/\\n<span class=\"hljs-built_in\">cp</span> issued/[client name].crt /etc/openvpn/\\n<span class=\"hljs-built_in\">cp</span> private/[client name].key /etc/openvpn/\\n</code></div></div></pre><ol start=\"5\"><li>Herstart de OpenVPN server om de veranderingen toe te passen. Dit kunt u doen door de volgende commando uit te voeren op de OpenVPN server:</li></ol><pre><div class=\"bg-black mb-4 rounded-md\"><div class=\"flex items-center relative text-gray-200 bg-gray-800 px-4 py-2 text-xs font-sans\"><button class=\"flex ml-auto gap-2\"><svg stroke=\"currentColor\" fill=\"none\" stroke-width=\"2\" viewBox=\"0 0 24 24\" stroke-linecap=\"round\" stroke-linejoin=\"round\" class=\"h-4 w-4\" height=\"1em\" width=\"1em\" xmlns=\"http://www.w3.org/2000/svg\"><path d=\"M16 4h2a2 2 0 0 1 2 2v14a2 2 0 0 1-2 2H6a2 2 0 0 1-2-2V6a2 2 0 0 1 2-2h2\"></path><rect x=\"8\" y=\"2\" width=\"8\" height=\"4\" rx=\"1\" ry=\"1\"></rect></svg>Copy code</button></div><div class=\"p-4 overflow-y-auto\"><code class=\"!whitespace-pre-wrap hljs language-java\">systemctl restart openvpn<span class=\"hljs-meta\">@server</span>\\n</code></div></div></pre><p>Nadat u deze stappen heeft voltooid, zou de gebruiker in staat moeten zijn om zich weer aan te melden bij de OpenVPN server met dezelfde naam als eerder, als het goed is zal de gebruiker een nieuw certificaat hebben en de oude is verwijderd.</p></div>'},\n",
       "  {'from': 'human',\n",
       "   'value': 'root@openvpn:/home/openvpn# sudo cp /home/openvpn/webtest.ovpn /var/www/html/webtest.ovpn\\nroot@openvpn:/home/openvpn# \\n\\nkan je hier uitleg voor geven'},\n",
       "  {'from': 'gpt',\n",
       "   'value': '<div class=\"markdown prose w-full break-words dark:prose-invert dark\"><p>De commando\\'s die hier worden uitgevoerd zijn het kopiëren van een bestand genaamd \"webtest.ovpn\" van de map \"/home/openvpn\" naar de map \"/var/www/html/webtest.ovpn\".</p><p>De eerste regel \"sudo cp /home/openvpn/webtest.ovpn /var/www/html/webtest.ovpn\" is een commando om een bestand te kopiëren. Hier wordt gebruik gemaakt van het commando \"cp\" (copy) om een bestand te kopiëren. Het commando \"sudo\" geeft aan dat het commando als een superuser (root) uitgevoerd moet worden, dit is nodig omdat</p></div>'},\n",
       "  {'from': 'human',\n",
       "   'value': 'kan je een gebruikershandleiding maken voor het importeren van .ovpn files'},\n",
       "  {'from': 'gpt',\n",
       "   'value': '<div class=\"markdown prose w-full break-words dark:prose-invert dark\"><p>Ja, hier is een gebruikershandleiding voor het importeren van .ovpn files:</p><ol><li><p>Open uw OpenVPN client op de computer waarop u zich wilt verbinden met de OpenVPN server.</p></li><li><p>Klik op de optie \"Import\" of \"Importeer configuratie\" in de menubalk van de OpenVPN client.</p></li><li><p>Zoek het .ovpn bestand op uw computer waarmee u zich wilt verbinden met de OpenVPN server. Dit bestand zou u eerder gedownload moeten hebben van de OpenVPN server of ontvangen van de beheerder.</p></li><li><p>Selecteer het .ovpn bestand en klik op \"Open\" of \"Importeren\" om het bestand te importeren.</p></li><li><p>Voer eventueel de gevraagde gebruikersnaam en wachtwoord in als uw OpenVPN server dit vereist.</p></li><li><p>Klik op \"Connect\" of \"Verbinden\" om u te verbinden met de OpenVPN server.</p></li><li><p>Controleer of de verbinding succesvol is door de status van de verbinding te controleren in de OpenVPN client.</p></li></ol><p>Opmerking: de stappen kunnen afwijken afhankelijk van de Open</p></div>'},\n",
       "  {'from': 'human',\n",
       "   'value': 'kan je een gebruikershandleiding maken met deze stappen er sowieso in maar dan in de stijl als dat je  die handleidingen hiervoor hebt gemaakt : \\n\\nnadat je een gebruiker hebt gemaakt voeg dan deze commando sudo cp /home/openvpn/clientnaam.ovpn /var/www/html/clientnaam.ovpn \\n\\ndat je daarna op je webbrowser naar je lokale ip moet waar je openvpn op draait en dan /clientnaam.ovpn moet doen om de client zijn file te zien\\n\\ndaarna de pagina opslaan als .ovpn bestand en ergens opslaan op je device en dan de OpenVPN connect app openen en de file importeren drukken en dan is het bestand vanaf de terminal naar lokale ip naar de openvpn connect app gegaan en kan die geimporteerd worden in de app\\n\\n'},\n",
       "  {'from': 'gpt',\n",
       "   'value': '<div class=\"markdown prose w-full break-words dark:prose-invert dark\"><p>Ja, hier is een gebruikershandleiding voor het importeren van een .ovpn bestand na het toevoegen van een gebruiker op een OpenVPN server:</p><ol><li><p>Voeg een nieuwe gebruiker toe aan de OpenVPN server met behulp van de OpenVPN-install script.</p></li><li><p>Voer het volgende commando uit in de terminal: \"sudo cp /home/openvpn/clientnaam.ovpn /var/www/html/clientnaam.ovpn\"</p></li><li><p>Dit commando kopieert het .ovpn bestand van de gebruiker naar de map /var/www/html, zodat de gebruiker het bestand kan downloaden via een webbrowser.</p></li><li><p>Open een webbrowser en ga naar de IP-adres van de OpenVPN server waarop u zich bevindt. Voeg \"/clientnaam.ovpn\" toe aan de URL, bijvoorbeeld \"<a href=\"http://192.168.1.100/clientnaam.ovpn\" target=\"_new\">http://192.168.1.100/clientnaam.ovpn</a>\"</p></li><li><p>Klik op de pagina op \"Download\" of \"Opslaan als\" en sla het bestand op een gewenste locatie op het apparaat.</p></li><li><p>Open de OpenVPN Connect app op het apparaat.</p></li><li><p>Klik op \"Import\" of \"Importeer configuratie\" en selecteer het zojuist gedownloade .ovpn bestand.</p></li><li><p>Voer eventueel de gevraagde geb</p></li></ol></div>'},\n",
       "  {'from': 'human', 'value': 'ga door'},\n",
       "  {'from': 'gpt',\n",
       "   'value': '<div class=\"markdown prose w-full break-words dark:prose-invert dark\"><ol start=\"8\"><li><p>Voer eventueel de gevraagde gebruikersnaam en wachtwoord in als de gebruiker een wachtwoordbeveiligde certificaat heeft.</p></li><li><p>Klik op \"Connect\" om verbinding te maken met de OpenVPN server.</p></li><li><p>Controleer de status van de verbinding en de gedownloade gegevens in de OpenVPN Connect app.</p></li></ol><p>Let op: Het is belangrijk om ervoor te zorgen dat de OpenVPN server correct is geconfigureerd en toegankelijk is via het lokale netwerk voordat u deze stappen uitvoert. Als er problemen zijn met de verbinding, controleer dan de configuratie van de server en eventuele firewall regels.</p></div>'},\n",
       "  {'from': 'human',\n",
       "   'value': 'sudo cp /home/openvpn/clientnaam.ovpn /var/www/html/clientnaam.ovpn\\n\\nkan je een korte uitleg geven wat deze commando doet?'},\n",
       "  {'from': 'gpt',\n",
       "   'value': '<div class=\"markdown prose w-full break-words dark:prose-invert dark\"><p>Deze commando kopieert een bestand genaamd \"clientnaam.ovpn\" vanuit de map \"/home/openvpn\" naar de map \"/var/www/html\" en geeft het in de nieuwe locatie dezelfde naam \"clientnaam.ovpn\". De map \"/var/www/html\" is de standaardmap voor webinhoud op een Ubuntu-server, dus door het bestand hier te plaatsen, is het mogelijk om via een webbrowser toegang te krijgen tot het bestand.</p></div>'},\n",
       "  {'from': 'human',\n",
       "   'value': '4.\\tKlik op de pagina op  of \"Opslaan als\" en sla het bestand op een gewenste locatie op het apparaat. \\n\\nkan je hier nog bij zetten in dezelfde stijl dat ze er wel voor moeten zorgen dat ze het in .ovpn bestand moeten opslaan'},\n",
       "  {'from': 'gpt',\n",
       "   'value': '<div class=\"markdown prose w-full break-words dark:prose-invert dark\"><ol start=\"4\"><li>Klik op de pagina op \"Download\" of \"Opslaan als\" en sla het bestand als een .ovpn-bestand op een gewenste locatie op het apparaat. Let erop dat het bestand de juiste extensie heeft, zodat het juist wordt herkend als een OpenVPN configuratiebestand.</li></ol></div>'},\n",
       "  {'from': 'human',\n",
       "   'value': 'kan je een documentatie schrijven over waarom je poort 1194 zou moeten openen op de firewall voor OpenVPN'},\n",
       "  {'from': 'gpt',\n",
       "   'value': '<div class=\"markdown prose w-full break-words dark:prose-invert dark\"><p>OpenVPN maakt gebruik van poort 1194 om verbinding te maken met de VPN-server. Als deze poort niet open is op de firewall van de server, zullen clients die verbinding proberen te maken met de OpenVPN-server geen verbinding kunnen maken.</p><p>Daarom is het noodzakelijk om poort 1194 op de firewall van de server te openen om een succesvolle verbinding te kunnen maken met de OpenVPN-server. Dit kan gedaan worden door gebruik te maken van een firewall configuratie tool zoals iptables of ufw.</p><p>Het openen van poort 1194 op de firewall is veilig, aangezien OpenVPN gebruik maakt van veilige protocollen zoals OpenVPN en SSL/TLS voor encryptie van de dataverkeer. Daarom wordt er geen beveiligingsrisico genomen door poort 1194 open te stellen voor OpenVPN.</p><p>Het is wel aangeraden om alleen toegang te verlenen vanaf specifieke IP-adressen of subnets, zoals bv. die van de bedrijfs- of thuisnetwerk van de gebruikers, om ongewenste toegang te voorkomen.</p><p>In het kort, poort 1194 moet opengesteld worden op de firewall van de OpenVPN-server om een succesvolle verbinding te kunnen maken met de OpenVPN-server. Dit kan gedaan worden met iptables of ufw, zonder beveiligingsrisico\\'s te nemen. Het is wel aangeraden om toegang te beperken tot specifieke IP-adressen of subnets.</p></div>'},\n",
       "  {'from': 'human',\n",
       "   'value': 'Het is wel aangeraden om alleen toegang te verlenen vanaf specifieke IP-adressen of subnets, zoals bv. die van de bedrijfs- of thuisnetwerk van de gebruikers, om ongewenste toegang te voorkomen. \\n\\nwat bedoel je hiermee? en hoe wil je dat ik dat doe?'},\n",
       "  {'from': 'gpt',\n",
       "   'value': '<div class=\"markdown prose w-full break-words dark:prose-invert dark\"><p>Met deze zin wordt bedoeld dat je als beheerder van de OpenVPN server ervoor moet zorgen dat alleen vertrouwde IP-adressen of subnets verbinding kunnen maken met de OpenVPN server. Dit kan gedaan worden door in de firewall-regels van de server alleen toegang toe te staan vanaf specifieke IP-adressen of subnets. Hierdoor wordt voorkomen dat onbevoegde gebruikers verbinding kunnen maken met de server.</p><p>Om dit te doen, zou je de firewall-regels van de server kunnen aanpassen om alleen verbinding toe te staan vanaf specifieke IP-adressen of subnets. Dit kan bijvoorbeeld gedaan worden met behulp van een firewall-configuratie tool zoals iptables of ufw. Hiermee kan je regels toevoegen om verbindingen alleen toe te staan vanaf specifieke IP-adressen of subnets.</p></div>'},\n",
       "  {'from': 'human',\n",
       "   'value': 'kan je handleiding schrijven welke commands en hoe dat moet'},\n",
       "  {'from': 'gpt',\n",
       "   'value': '<div class=\"markdown prose w-full break-words dark:prose-invert dark\"><p>Om toegang te beperken tot specifieke IP-adressen of subnets voor OpenVPN, kunt u uw firewall configureren om verbindingen alleen toe te staan vanaf die specifieke adressen. Hieronder staan enkele voorbeelden van hoe u dit kunt doen met een aantal populaire firewall-tools:</p><ol><li>iptables (Linux):</li></ol><ul><li>Voeg een regel toe aan uw iptables configuratie om verbindingen alleen toe te staan vanaf een specifiek IP-adres of subnet:</li></ul><pre><div class=\"bg-black mb-4 rounded-md\"><div class=\"flex items-center relative text-gray-200 bg-gray-800 px-4 py-2 text-xs font-sans\"><button class=\"flex ml-auto gap-2\"><svg stroke=\"currentColor\" fill=\"none\" stroke-width=\"2\" viewBox=\"0 0 24 24\" stroke-linecap=\"round\" stroke-linejoin=\"round\" class=\"h-4 w-4\" height=\"1em\" width=\"1em\" xmlns=\"http://www.w3.org/2000/svg\"><path d=\"M16 4h2a2 2 0 0 1 2 2v14a2 2 0 0 1-2 2H6a2 2 0 0 1-2-2V6a2 2 0 0 1 2-2h2\"></path><rect x=\"8\" y=\"2\" width=\"8\" height=\"4\" rx=\"1\" ry=\"1\"></rect></svg>Copy code</button></div><div class=\"p-4 overflow-y-auto\"><code class=\"!whitespace-pre-wrap hljs language-css\">iptables -<span class=\"hljs-selector-tag\">A</span> <span class=\"hljs-selector-tag\">INPUT</span> -s &lt;IP-adres of subnet&gt; -<span class=\"hljs-selector-tag\">p</span> udp <span class=\"hljs-attr\">--dport</span> <span class=\"hljs-number\">1194</span> -j ACCEPT\\n</code></div></div></pre><ul><li>Voeg een regel toe om verbindingen van andere IP-adressen te blokkeren:</li></ul><pre><div class=\"bg-black mb-4 rounded-md\"><div class=\"flex items-center relative text-gray-200 bg-gray-800 px-4 py-2 text-xs font-sans\"><button class=\"flex ml-auto gap-2\"><svg stroke=\"currentColor\" fill=\"none\" stroke-width=\"2\" viewBox=\"0 0 24 24\" stroke-linecap=\"round\" stroke-linejoin=\"round\" class=\"h-4 w-4\" height=\"1em\" width=\"1em\" xmlns=\"http://www.w3.org/2000/svg\"><path d=\"M16 4h2a2 2 0 0 1 2 2v14a2 2 0 0 1-2 2H6a2 2 0 0 1-2-2V6a2 2 0 0 1 2-2h2\"></path><rect x=\"8\" y=\"2\" width=\"8\" height=\"4\" rx=\"1\" ry=\"1\"></rect></svg>Copy code</button></div><div class=\"p-4 overflow-y-auto\"><code class=\"!whitespace-pre-wrap hljs language-css\">iptables -<span class=\"hljs-selector-tag\">A</span> <span class=\"hljs-selector-tag\">INPUT</span> -<span class=\"hljs-selector-tag\">p</span> udp <span class=\"hljs-attr\">--dport</span> <span class=\"hljs-number\">1194</span> -j DROP\\n</code></div></div></pre><ol start=\"2\"><li>UFW (Linux)</li></ol><ul><li>Voeg een regel toe aan uw UFW configuratie om verbindingen alleen toe te staan vanaf een specifiek IP-adres of subnet:</li></ul><pre><div class=\"bg-black mb-4 rounded-md\"><div class=\"flex items-center relative text-gray-200 bg-gray-800 px-4 py-2 text-xs font-sans\"><button class=\"flex ml-auto gap-2\"><svg stroke=\"currentColor\" fill=\"none\" stroke-width=\"2\" viewBox=\"0 0 24 24\" stroke-linecap=\"round\" stroke-linejoin=\"round\" class=\"h-4 w-4\" height=\"1em\" width=\"1em\" xmlns=\"http://www.w3.org/2000/svg\"><path d=\"M16 4h2a2 2 0 0 1 2 2v14a2 2 0 0 1-2 2H6a2 2 0 0 1-2-2V6a2 2 0 0 1 2-2h2\"></path><rect x=\"8\" y=\"2\" width=\"8\" height=\"4\" rx=\"1\" ry=\"1\"></rect></svg>Copy code</button></div><div class=\"p-4 overflow-y-auto\"><code class=\"!whitespace-pre-wrap hljs language-python\">ufw allow <span class=\"hljs-keyword\">from</span> &lt;IP-adres of subnet&gt; to <span class=\"hljs-built_in\">any</span> port <span class=\"hljs-number\">1194</span>\\n</code></div></div></pre><ul><li>Voeg een regel toe om verbindingen van andere IP-adressen te blokkeren:</li></ul><pre><div class=\"bg-black mb-4 rounded-md\"><div class=\"flex items-center relative text-gray-200 bg-gray-800 px-4 py-2 text-xs font-sans\"><button class=\"flex ml-auto gap-2\"><svg stroke=\"currentColor\" fill=\"none\" stroke-width=\"2\" viewBox=\"0 0 24 24\" stroke-linecap=\"round\" stroke-linejoin=\"round\" class=\"h-4 w-4\" height=\"1em\" width=\"1em\" xmlns=\"http://www.w3.org/2000/svg\"><path d=\"M16 4h2a2 2 0 0 1 2 2v14a2 2 0 0 1-2 2H6a2 2 0 0 1-2-2V6a2 2 0 0 1 2-2h2\"></path><rect x=\"8\" y=\"2\" width=\"8\" height=\"4\" rx=\"1\" ry=\"1\"></rect></svg>Copy code</button></div><div class=\"p-4 overflow-y-auto\"><code class=\"!whitespace-pre-wrap hljs language-python\">ufw deny <span class=\"hljs-keyword\">from</span> <span class=\"hljs-built_in\">any</span> to <span class=\"hljs-built_in\">any</span> port <span class=\"hljs-number\">1194</span>\\n</code></div></div></pre><ol start=\"3\"><li>Windows Firewall</li></ol><ul><li>Open de \\'Windows Firewall met geavanceerde beveiliging\\'</li><li>Klik op \\'Inbound Rules\\'</li><li>Klik op \\'New Rule\\'</li><li>Selecteer \\'Port\\' en klik op \\'Next\\'</li><li>Selecteer \\'UDP\\' en voer poort 1194 in en klik op \\'Next\\'</li><li>Selecteer \\'Allow the connection\\' en klik op \\'Next\\'</li><li>Selecteer \\'Specific IPs\\' en voer het IP-adres of subnet in waarvan u verbindingen wilt toestaan en klik op \\'Next\\'</li><li>Geef de regel een naam en klik op \\'Finish\\'</li></ul><p>Houd er rekening mee dat deze voorbeelden alleen ges</p></div>'}]}"
      ]
     },
     "execution_count": 32,
     "metadata": {},
     "output_type": "execute_result"
    }
   ],
   "source": [
    "import json\n",
    "\n",
    "with open(\"./datasets/ShareGPT52K-sg_90k_part1.json\") as f:\n",
    "    data = json.load(f)\n",
    "\n",
    "data[0]\n"
   ]
  },
  {
   "cell_type": "code",
   "execution_count": 38,
   "metadata": {},
   "outputs": [],
   "source": [
    "import json\n",
    "import html2text\n",
    "\n",
    "new_dataset = []\n",
    "for i, item in enumerate(data):\n",
    "    conversations = item[\"conversations\"]\n",
    "    if len(conversations) > 0:\n",
    "        while conversations[0][\"from\"] == \"gpt\":\n",
    "            conversations.pop(0)\n",
    "            # print(conversations)\n",
    "            if len(conversations) == 0:\n",
    "                break\n",
    "\n",
    "        conversations = conversations[: len(conversations) // 2 * 2]\n",
    "        # print(conversations)\n",
    "        for i in range(0, len(conversations), 2):\n",
    "            human = item[\"conversations\"][i][\"value\"]\n",
    "            bot = item[\"conversations\"][i + 1][\"value\"]\n",
    "            bot = html2text.html2text(bot)\n",
    "\n",
    "            prompt = format_dataset_1(\n",
    "                instruction=human.strip(),\n",
    "                response=bot.strip(),\n",
    "                position=1,\n",
    "            )\n",
    "            # print(prompt)\n",
    "            new_dataset.append({\"prompt\": prompt})\n",
    "\n",
    "    # if i > 400:\n",
    "    #     break\n",
    "\n",
    "with open(\n",
    "    \"./datasets_processed/ShareGPT52K-sg_90k_part1_formatted.json\",\n",
    "    \"w\",\n",
    "    encoding=\"utf-8\",\n",
    ") as f:\n",
    "    json.dump(new_dataset, f)\n"
   ]
  },
  {
   "cell_type": "code",
   "execution_count": 39,
   "metadata": {},
   "outputs": [],
   "source": [
    "import json\n",
    "\n",
    "with open(\"./datasets/ShareGPT52K-sg_90k_part1.json\") as f:\n",
    "    data = json.load(f)\n"
   ]
  },
  {
   "cell_type": "code",
   "execution_count": 40,
   "metadata": {},
   "outputs": [],
   "source": [
    "import json\n",
    "import html2text\n",
    "\n",
    "new_dataset = []\n",
    "for i, item in enumerate(data):\n",
    "    conversations = item[\"conversations\"]\n",
    "    if len(conversations) > 0:\n",
    "        while conversations[0][\"from\"] == \"gpt\":\n",
    "            conversations.pop(0)\n",
    "            # print(conversations)\n",
    "            if len(conversations) == 0:\n",
    "                break\n",
    "\n",
    "        conversations = conversations[: len(conversations) // 2 * 2]\n",
    "        # print(conversations)\n",
    "        for i in range(0, len(conversations), 2):\n",
    "            human = item[\"conversations\"][i][\"value\"]\n",
    "            bot = item[\"conversations\"][i + 1][\"value\"]\n",
    "            bot = html2text.html2text(bot)\n",
    "\n",
    "            prompt = format_dataset_1(\n",
    "                instruction=human.strip(),\n",
    "                response=bot.strip(),\n",
    "                position=1,\n",
    "            )\n",
    "            # print(prompt)\n",
    "            new_dataset.append({\"prompt\": prompt})\n",
    "\n",
    "    # if i > 400:\n",
    "    #     break\n",
    "\n",
    "with open(\n",
    "    \"./datasets_processed/ShareGPT52K-sg_90k_part2_formatted.json\",\n",
    "    \"w\",\n",
    "    encoding=\"utf-8\",\n",
    ") as f:\n",
    "    json.dump(new_dataset, f)\n"
   ]
  },
  {
   "cell_type": "code",
   "execution_count": 7,
   "metadata": {},
   "outputs": [
    {
     "data": {
      "text/plain": [
       "['./datasets_processed/ShareGPT52K-sg_90k_part2_formatted.json',\n",
       " './datasets_processed/Hello_SimpleAI_HC3_formatted.json',\n",
       " './datasets_processed/GPTeacher_toolformer_dedupe_only_dataset_formatted.json',\n",
       " './datasets_processed/ShareGPT_V2_unfiltered_cleaned_split_formatted.json',\n",
       " './datasets_processed/ShareGPT52K-sg_90k_part1_formatted.json',\n",
       " './datasets_processed/yahma_alpaca_cleaned_formated.json',\n",
       " './datasets_processed/GPTeacher_roleplay_simple_deduped_roleplay_dataset_formatted.json',\n",
       " './datasets_processed/GPTeacher_gpt4_instruct_dedupe_only_dataset_formatted.json',\n",
       " './datasets_processed/IlyaGusev_ru_turbo_alpaca_formatted.json',\n",
       " './datasets_processed/self_instruct_formated.json']"
      ]
     },
     "execution_count": 7,
     "metadata": {},
     "output_type": "execute_result"
    }
   ],
   "source": [
    "import os\n",
    "\n",
    "[f\"./datasets_processed/{path}\" for path in os.listdir(\"./datasets_processed/\")]\n"
   ]
  },
  {
   "cell_type": "code",
   "execution_count": 6,
   "metadata": {},
   "outputs": [
    {
     "name": "stdout",
     "output_type": "stream",
     "text": [
      "Downloading and preparing dataset json/default to /home/kosenko/.cache/huggingface/datasets/json/default-3b26af1c0a89c821/0.0.0/fe5dd6ea2639a6df622901539cb550cf8797e5a6b2dd7af1cf934bed8e233e6e...\n"
     ]
    },
    {
     "name": "stderr",
     "output_type": "stream",
     "text": [
      "Downloading data files: 100%|██████████| 1/1 [00:00<00:00, 1800.13it/s]\n",
      "Extracting data files: 100%|██████████| 1/1 [00:00<00:00, 25.74it/s]\n",
      "                                                                     \r"
     ]
    },
    {
     "name": "stdout",
     "output_type": "stream",
     "text": [
      "Dataset json downloaded and prepared to /home/kosenko/.cache/huggingface/datasets/json/default-3b26af1c0a89c821/0.0.0/fe5dd6ea2639a6df622901539cb550cf8797e5a6b2dd7af1cf934bed8e233e6e. Subsequent calls will reuse this data.\n"
     ]
    },
    {
     "name": "stderr",
     "output_type": "stream",
     "text": [
      "100%|██████████| 1/1 [00:00<00:00, 30.53it/s]\n"
     ]
    }
   ],
   "source": [
    "from datasets import load_dataset\n",
    "import os\n",
    "\n",
    "data_files = {\n",
    "    \"train\": [\n",
    "        f\"./datasets_processed/{path}\" for path in os.listdir(\"./datasets_processed/\")\n",
    "    ]\n",
    "}\n",
    "data = load_dataset(\n",
    "    \"json\",\n",
    "    data_files=data_files,\n",
    ")\n"
   ]
  },
  {
   "cell_type": "code",
   "execution_count": 8,
   "metadata": {},
   "outputs": [
    {
     "data": {
      "text/plain": [
       "DatasetDict({\n",
       "    train: Dataset({\n",
       "        features: ['prompt'],\n",
       "        num_rows: 1349794\n",
       "    })\n",
       "})"
      ]
     },
     "execution_count": 8,
     "metadata": {},
     "output_type": "execute_result"
    }
   ],
   "source": [
    "data\n"
   ]
  },
  {
   "cell_type": "code",
   "execution_count": 14,
   "metadata": {},
   "outputs": [
    {
     "name": "stdout",
     "output_type": "stream",
     "text": [
      "\n",
      "\n",
      "A chat between a curious human and an artificial intelligence assistant. The assistant gives helpful, detailed, and polite answers to the human's questions.\n",
      "\n",
      "### Human: Below is an instruction that describes a task. Write a response that appropriately completes the request.\n",
      "\n",
      "### Instruction:\n",
      "In this recent example you are starting the tour in renderedCallback. But before you started the tour in connectedCallback. Why?\n",
      "\n",
      "### Response:\n",
      "### Assistant:\n",
      "The decision to start the tour in `renderedCallback` versus\n",
      "`connectedCallback` depends on the specific use case and what the component is\n",
      "doing.\n",
      "\n",
      "`connectedCallback` is called when the component is inserted into the DOM. It\n",
      "is often used to set up initial state or fetch data from a server. In some\n",
      "cases, you may want to start the tour in `connectedCallback` if the tour is\n",
      "part of the initial setup of the component.\n",
      "\n",
      "On the other hand, `renderedCallback` is called after every render of the\n",
      "component. This means that if there are changes to the component's state or\n",
      "properties that cause it to re-render, the `renderedCallback` will be called\n",
      "again. This can be useful if the tour needs to be started or updated based on\n",
      "changes in the component's state or properties.\n",
      "\n",
      "In the example I provided, starting the tour in `renderedCallback` ensures\n",
      "that it will be started or updated every time the component re-renders, which\n",
      "may be desirable if the tour needs to be dynamically updated based on changes\n",
      "in the component's state or properties. However, if the tour is a one-time\n",
      "setup task that doesn't need to be updated, it could also be started in\n",
      "`connectedCallback`.\n",
      "\n",
      "\n"
     ]
    }
   ],
   "source": [
    "example = data[\"train\"][100000][\"prompt\"]\n",
    "print(example)\n"
   ]
  },
  {
   "cell_type": "code",
   "execution_count": 40,
   "metadata": {},
   "outputs": [
    {
     "name": "stdout",
     "output_type": "stream",
     "text": [
      "\n",
      "\n",
      "A chat between a curious human and an artificial intelligence assistant. The assistant gives helpful, detailed, and polite answers to the human's questions.\n",
      "\n",
      "### Human: Below is an instruction that describes a task. Write a response that appropriately completes the request.\n",
      "\n",
      "### Instruction:\n",
      "In this recent example you are starting the tour in renderedCallback. But before you started the tour in connectedCallback. Why?\n",
      "\n",
      "### Response:\n",
      "### Assistant:\n",
      "The decision to start the tour in `renderedCallback` versus\n",
      "`connectedCallback` depends on the specific use case and what the component is\n",
      "doing.\n",
      "\n",
      "`connectedCallback` is called when the component is inserted into the DOM. It\n",
      "is often used to set up initial state or fetch data from a server. In some\n",
      "cases, you may want to start the tour in `connectedCallback` if the tour is\n",
      "part of the initial setup of the component.\n",
      "\n",
      "On the other hand, `renderedCallback` is called after every render of the\n",
      "component. This means that if there are changes to the component's state or\n",
      "properties that cause it to re-render, the `renderedCallback` will be called\n",
      "again. This can be useful if the tour needs to be started or updated based on\n",
      "changes in the component's state or properties.\n",
      "\n",
      "In the example I provided, starting the tour in `renderedCallback` ensures\n",
      "that it will be started or updated every time the component re-renders, which\n",
      "may be desirable if the tour needs to be dynamically updated based on changes\n",
      "in the component's state or properties. However, if the tour is a one-time\n",
      "setup task that doesn't need to be updated, it could also be started in\n",
      "`connectedCallback`.\n",
      "\n",
      "\n"
     ]
    }
   ],
   "source": [
    "from transformers import AutoTokenizer\n",
    "\n",
    "tokenizer = AutoTokenizer.from_pretrained(\"gpt2\")\n",
    "\n",
    "\n",
    "def generate_and_tokenize_prompt(prompt):\n",
    "    tokenized_prompt = tokenizer(\n",
    "        prompt,\n",
    "        max_length=2048,\n",
    "        truncation=True,\n",
    "    )\n",
    "    user_prompt = prompt[: example.index(\"### Assistant:\")]\n",
    "    tokenized_user_prompt = tokenizer(\n",
    "        user_prompt,\n",
    "        max_length=2048,\n",
    "        truncation=True,\n",
    "        add_special_tokens=False,\n",
    "    )\n",
    "    prompt_len = len(tokenized_user_prompt[\"input_ids\"])\n",
    "\n",
    "    tokenized_prompt[\"labels\"] = [-100] * (prompt_len) + tokenized_prompt[\"input_ids\"][\n",
    "        prompt_len:\n",
    "    ]\n",
    "    return tokenized_prompt\n",
    "\n",
    "\n",
    "tokenized = generate_and_tokenize_prompt(example)\n",
    "print(tokenizer.decode(tokenized[\"input_ids\"], skip_special_tokens=False))\n",
    "# print(tokenizer.decode(tokenized[\"labels\"], skip_special_tokens=False))\n"
   ]
  }
 ],
 "metadata": {
  "kernelspec": {
   "display_name": "base",
   "language": "python",
   "name": "python3"
  },
  "language_info": {
   "codemirror_mode": {
    "name": "ipython",
    "version": 3
   },
   "file_extension": ".py",
   "mimetype": "text/x-python",
   "name": "python",
   "nbconvert_exporter": "python",
   "pygments_lexer": "ipython3",
   "version": "3.10.9"
  },
  "orig_nbformat": 4
 },
 "nbformat": 4,
 "nbformat_minor": 2
}
